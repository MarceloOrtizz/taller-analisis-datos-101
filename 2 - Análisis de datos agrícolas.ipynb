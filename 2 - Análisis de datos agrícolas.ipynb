{
 "cells": [
  {
   "cell_type": "markdown",
   "metadata": {},
   "source": [
    "# Análisis de datos agrícolas"
   ]
  },
  {
   "cell_type": "markdown",
   "metadata": {},
   "source": [
    "Se analizan datos de los 4 cultivos principales de la Argentina: soja, girasol, trigo y maíz."
   ]
  },
  {
   "cell_type": "code",
   "execution_count": 46,
   "metadata": {
    "collapsed": false
   },
   "outputs": [],
   "source": [
    "import pandas as pd\n",
    "import requests\n",
    "import json\n",
    "import matplotlib\n",
    "from matplotlib import pyplot as plt\n",
    "%matplotlib inline\n",
    "matplotlib.style.use(\"ggplot\")"
   ]
  },
  {
   "cell_type": "markdown",
   "metadata": {},
   "source": [
    "## 1. Conseguir los datos"
   ]
  },
  {
   "cell_type": "markdown",
   "metadata": {},
   "source": [
    "### Portal de Datos Abiertos de Agroindustria "
   ]
  },
  {
   "cell_type": "markdown",
   "metadata": {},
   "source": [
    "Descargamos datos de producción, rendimiento, superficie sembrada y cosechada de los 4 cultivos desde el Portal de **Datos Abiertos de Agroindustria**: https://datos.magyp.gob.ar "
   ]
  },
  {
   "cell_type": "markdown",
   "metadata": {},
   "source": [
    "El archivo `datos/datos-magyp-cultivos-principales.csv` es una descarga de https://datos.magyp.gob.ar/reportes.php?reporte=Estimaciones eligiendo Soja, Girasol, Trigo y Maíz, a nivel de Departamentos (agregación geográfica)."
   ]
  },
  {
   "cell_type": "code",
   "execution_count": 6,
   "metadata": {
    "collapsed": false
   },
   "outputs": [],
   "source": [
    "df_cultivos = pd.read_csv(\"data/datos-magyp-cultivos-principales.csv\", \n",
    "                          sep=\";\", encoding=\"latin1\", thousands=\".\", decimal=\",\")"
   ]
  },
  {
   "cell_type": "code",
   "execution_count": 7,
   "metadata": {
    "collapsed": false
   },
   "outputs": [
    {
     "data": {
      "text/html": [
       "<div>\n",
       "<table border=\"1\" class=\"dataframe\">\n",
       "  <thead>\n",
       "    <tr style=\"text-align: right;\">\n",
       "      <th></th>\n",
       "      <th>Cultivo</th>\n",
       "      <th>Campaña</th>\n",
       "      <th>Provincia</th>\n",
       "      <th>Departamento</th>\n",
       "      <th>Sup. Sembrada</th>\n",
       "      <th>Sup. Cosechada</th>\n",
       "      <th>Producción</th>\n",
       "      <th>Rendimiento</th>\n",
       "    </tr>\n",
       "  </thead>\n",
       "  <tbody>\n",
       "    <tr>\n",
       "      <th>0</th>\n",
       "      <td>Girasol</td>\n",
       "      <td>1969/70</td>\n",
       "      <td>BUENOS AIRES</td>\n",
       "      <td>25 de Mayo</td>\n",
       "      <td>30000</td>\n",
       "      <td>30000</td>\n",
       "      <td>22500</td>\n",
       "      <td>750</td>\n",
       "    </tr>\n",
       "    <tr>\n",
       "      <th>1</th>\n",
       "      <td>Girasol</td>\n",
       "      <td>1970/71</td>\n",
       "      <td>BUENOS AIRES</td>\n",
       "      <td>25 de Mayo</td>\n",
       "      <td>44000</td>\n",
       "      <td>31000</td>\n",
       "      <td>15000</td>\n",
       "      <td>484</td>\n",
       "    </tr>\n",
       "    <tr>\n",
       "      <th>2</th>\n",
       "      <td>Girasol</td>\n",
       "      <td>1971/72</td>\n",
       "      <td>BUENOS AIRES</td>\n",
       "      <td>25 de Mayo</td>\n",
       "      <td>22000</td>\n",
       "      <td>19000</td>\n",
       "      <td>10450</td>\n",
       "      <td>550</td>\n",
       "    </tr>\n",
       "    <tr>\n",
       "      <th>3</th>\n",
       "      <td>Girasol</td>\n",
       "      <td>1972/73</td>\n",
       "      <td>BUENOS AIRES</td>\n",
       "      <td>25 de Mayo</td>\n",
       "      <td>20000</td>\n",
       "      <td>5000</td>\n",
       "      <td>5100</td>\n",
       "      <td>1020</td>\n",
       "    </tr>\n",
       "    <tr>\n",
       "      <th>4</th>\n",
       "      <td>Girasol</td>\n",
       "      <td>1973/74</td>\n",
       "      <td>BUENOS AIRES</td>\n",
       "      <td>25 de Mayo</td>\n",
       "      <td>14000</td>\n",
       "      <td>14000</td>\n",
       "      <td>10800</td>\n",
       "      <td>771</td>\n",
       "    </tr>\n",
       "  </tbody>\n",
       "</table>\n",
       "</div>"
      ],
      "text/plain": [
       "   Cultivo  Campaña     Provincia Departamento  Sup. Sembrada  Sup. Cosechada  \\\n",
       "0  Girasol  1969/70  BUENOS AIRES   25 de Mayo          30000           30000   \n",
       "1  Girasol  1970/71  BUENOS AIRES   25 de Mayo          44000           31000   \n",
       "2  Girasol  1971/72  BUENOS AIRES   25 de Mayo          22000           19000   \n",
       "3  Girasol  1972/73  BUENOS AIRES   25 de Mayo          20000            5000   \n",
       "4  Girasol  1973/74  BUENOS AIRES   25 de Mayo          14000           14000   \n",
       "\n",
       "   Producción  Rendimiento  \n",
       "0       22500          750  \n",
       "1       15000          484  \n",
       "2       10450          550  \n",
       "3        5100         1020  \n",
       "4       10800          771  "
      ]
     },
     "execution_count": 7,
     "metadata": {},
     "output_type": "execute_result"
    }
   ],
   "source": [
    "df_cultivos.head()"
   ]
  },
  {
   "cell_type": "code",
   "execution_count": 8,
   "metadata": {
    "collapsed": true
   },
   "outputs": [],
   "source": [
    "a = df_cultivos[\"Sup. Cosechada\"] <= df_cultivos[\"Sup. Sembrada\"]"
   ]
  },
  {
   "cell_type": "code",
   "execution_count": 9,
   "metadata": {
    "collapsed": false
   },
   "outputs": [
    {
     "data": {
      "text/html": [
       "<div>\n",
       "<table border=\"1\" class=\"dataframe\">\n",
       "  <thead>\n",
       "    <tr style=\"text-align: right;\">\n",
       "      <th></th>\n",
       "      <th>Cultivo</th>\n",
       "      <th>Campaña</th>\n",
       "      <th>Provincia</th>\n",
       "      <th>Departamento</th>\n",
       "      <th>Sup. Sembrada</th>\n",
       "      <th>Sup. Cosechada</th>\n",
       "      <th>Producción</th>\n",
       "      <th>Rendimiento</th>\n",
       "    </tr>\n",
       "  </thead>\n",
       "  <tbody>\n",
       "    <tr>\n",
       "      <th>25680</th>\n",
       "      <td>Soja</td>\n",
       "      <td>2013/14</td>\n",
       "      <td>BUENOS AIRES</td>\n",
       "      <td>General Juan Madariaga</td>\n",
       "      <td>2050</td>\n",
       "      <td>19250</td>\n",
       "      <td>54975</td>\n",
       "      <td>2856</td>\n",
       "    </tr>\n",
       "    <tr>\n",
       "      <th>34843</th>\n",
       "      <td>Trigo</td>\n",
       "      <td>2014/15</td>\n",
       "      <td>BUENOS AIRES</td>\n",
       "      <td>Carlos Tejedor</td>\n",
       "      <td>25500</td>\n",
       "      <td>25550</td>\n",
       "      <td>71580</td>\n",
       "      <td>2802</td>\n",
       "    </tr>\n",
       "  </tbody>\n",
       "</table>\n",
       "</div>"
      ],
      "text/plain": [
       "      Cultivo  Campaña     Provincia            Departamento  Sup. Sembrada  \\\n",
       "25680    Soja  2013/14  BUENOS AIRES  General Juan Madariaga           2050   \n",
       "34843   Trigo  2014/15  BUENOS AIRES          Carlos Tejedor          25500   \n",
       "\n",
       "       Sup. Cosechada  Producción  Rendimiento  \n",
       "25680           19250       54975         2856  \n",
       "34843           25550       71580         2802  "
      ]
     },
     "execution_count": 9,
     "metadata": {},
     "output_type": "execute_result"
    }
   ],
   "source": [
    "df_cultivos[~a]"
   ]
  },
  {
   "cell_type": "markdown",
   "metadata": {},
   "source": [
    "El archivo `datos/datos-magyp-produccion-estimaciones.csv` es una descarga del dataset completo de estimaciones de producción primaria https://datos.magyp.gob.ar/reportes.php?reporte=Estimaciones (abajo de todo, \"Descargar Dataset\")."
   ]
  },
  {
   "cell_type": "code",
   "execution_count": 10,
   "metadata": {
    "collapsed": false
   },
   "outputs": [],
   "source": [
    "df_prod = pd.read_csv(\"data/datos-magyp-produccion-estimaciones.csv\",\n",
    "                     sep=\";\", encoding=\"latin1\", thousands=\".\", decimal=\",\")"
   ]
  },
  {
   "cell_type": "code",
   "execution_count": 11,
   "metadata": {
    "collapsed": false
   },
   "outputs": [
    {
     "data": {
      "text/html": [
       "<div>\n",
       "<table border=\"1\" class=\"dataframe\">\n",
       "  <thead>\n",
       "    <tr style=\"text-align: right;\">\n",
       "      <th></th>\n",
       "      <th>ID Provincia</th>\n",
       "      <th>Provincia</th>\n",
       "      <th>ID Departamento</th>\n",
       "      <th>Departamento</th>\n",
       "      <th>Id Cultivo</th>\n",
       "      <th>Cultivo</th>\n",
       "      <th>ID Campaña</th>\n",
       "      <th>Campana</th>\n",
       "      <th>Sup. Sembrada (Ha)</th>\n",
       "      <th>Sup. Cosechada (Ha)</th>\n",
       "      <th>Producción (Tn)</th>\n",
       "      <th>Rendimiento (Kg/Ha)</th>\n",
       "    </tr>\n",
       "  </thead>\n",
       "  <tbody>\n",
       "    <tr>\n",
       "      <th>0</th>\n",
       "      <td>6</td>\n",
       "      <td>BUENOS AIRES</td>\n",
       "      <td>854</td>\n",
       "      <td>25 de Mayo</td>\n",
       "      <td>1</td>\n",
       "      <td>Ajo</td>\n",
       "      <td>1</td>\n",
       "      <td>1969/70</td>\n",
       "      <td>3</td>\n",
       "      <td>3</td>\n",
       "      <td>10</td>\n",
       "      <td>3333</td>\n",
       "    </tr>\n",
       "    <tr>\n",
       "      <th>1</th>\n",
       "      <td>6</td>\n",
       "      <td>BUENOS AIRES</td>\n",
       "      <td>854</td>\n",
       "      <td>25 de Mayo</td>\n",
       "      <td>1</td>\n",
       "      <td>Ajo</td>\n",
       "      <td>2</td>\n",
       "      <td>1970/71</td>\n",
       "      <td>1</td>\n",
       "      <td>1</td>\n",
       "      <td>3</td>\n",
       "      <td>3000</td>\n",
       "    </tr>\n",
       "    <tr>\n",
       "      <th>2</th>\n",
       "      <td>6</td>\n",
       "      <td>BUENOS AIRES</td>\n",
       "      <td>14</td>\n",
       "      <td>Adolfo Gonzales Chaves</td>\n",
       "      <td>1</td>\n",
       "      <td>Ajo</td>\n",
       "      <td>1</td>\n",
       "      <td>1969/70</td>\n",
       "      <td>15</td>\n",
       "      <td>15</td>\n",
       "      <td>82</td>\n",
       "      <td>5467</td>\n",
       "    </tr>\n",
       "    <tr>\n",
       "      <th>3</th>\n",
       "      <td>6</td>\n",
       "      <td>BUENOS AIRES</td>\n",
       "      <td>14</td>\n",
       "      <td>Adolfo Gonzales Chaves</td>\n",
       "      <td>1</td>\n",
       "      <td>Ajo</td>\n",
       "      <td>2</td>\n",
       "      <td>1970/71</td>\n",
       "      <td>10</td>\n",
       "      <td>10</td>\n",
       "      <td>55</td>\n",
       "      <td>5500</td>\n",
       "    </tr>\n",
       "    <tr>\n",
       "      <th>4</th>\n",
       "      <td>6</td>\n",
       "      <td>BUENOS AIRES</td>\n",
       "      <td>14</td>\n",
       "      <td>Adolfo Gonzales Chaves</td>\n",
       "      <td>1</td>\n",
       "      <td>Ajo</td>\n",
       "      <td>3</td>\n",
       "      <td>1971/72</td>\n",
       "      <td>8</td>\n",
       "      <td>8</td>\n",
       "      <td>44</td>\n",
       "      <td>5500</td>\n",
       "    </tr>\n",
       "  </tbody>\n",
       "</table>\n",
       "</div>"
      ],
      "text/plain": [
       "   ID Provincia     Provincia  ID Departamento            Departamento  \\\n",
       "0             6  BUENOS AIRES              854              25 de Mayo   \n",
       "1             6  BUENOS AIRES              854              25 de Mayo   \n",
       "2             6  BUENOS AIRES               14  Adolfo Gonzales Chaves   \n",
       "3             6  BUENOS AIRES               14  Adolfo Gonzales Chaves   \n",
       "4             6  BUENOS AIRES               14  Adolfo Gonzales Chaves   \n",
       "\n",
       "   Id Cultivo Cultivo  ID Campaña  Campana  Sup. Sembrada (Ha)  \\\n",
       "0           1     Ajo           1  1969/70                   3   \n",
       "1           1     Ajo           2  1970/71                   1   \n",
       "2           1     Ajo           1  1969/70                  15   \n",
       "3           1     Ajo           2  1970/71                  10   \n",
       "4           1     Ajo           3  1971/72                   8   \n",
       "\n",
       "   Sup. Cosechada (Ha)  Producción (Tn)  Rendimiento (Kg/Ha)  \n",
       "0                    3               10                 3333  \n",
       "1                    1                3                 3000  \n",
       "2                   15               82                 5467  \n",
       "3                   10               55                 5500  \n",
       "4                    8               44                 5500  "
      ]
     },
     "execution_count": 11,
     "metadata": {},
     "output_type": "execute_result"
    }
   ],
   "source": [
    "df_prod.head()"
   ]
  },
  {
   "cell_type": "markdown",
   "metadata": {},
   "source": [
    "### COMTRADE"
   ]
  },
  {
   "cell_type": "markdown",
   "metadata": {},
   "source": [
    "Queremos sumar datos de precios internacionales de estos 4 cultivos a lo largo del tiempo. Usamos la API de Comtrade (https://comtrade.un.org/data/doc/api) para descargar montos y cantidades totales exportadas en el mundo de cada uno y construir un precio promedio por tonelada exportada.\n",
    "\n",
    "Nota: esta metodología tiene sus más y sus menos, para ver una discusión en mayor detalle sobre el tema ver el jupyter auxiliar **Precios internacionales de cultivos (COMTRADE vs. WB)**."
   ]
  },
  {
   "cell_type": "code",
   "execution_count": 12,
   "metadata": {
    "collapsed": true
   },
   "outputs": [],
   "source": [
    "API_COMTRADE = \"http://comtrade.un.org/api/get\""
   ]
  },
  {
   "cell_type": "code",
   "execution_count": 13,
   "metadata": {
    "collapsed": true
   },
   "outputs": [],
   "source": [
    "params = {\n",
    "    \"freq\": \"A\", # frecuencia anual\n",
    "    \"r\": 32, # reporter (reporta los datos): 32 es el código de la Argentina\n",
    "    \"ps\": \"ALL\", # período (any para tomar todos los años)\n",
    "    \"px\": \"S1\", # sistema de clasificación de productos: SITC Rev 1 es la serie más larga\n",
    "    \"fmt\": \"JSON\", # formato devuelto (CSV o JSON)\n",
    "    \"p\": 0, # partner (contraparte comercial del reporter): 0 es el código del Mundo\n",
    "    \"rg\": 2, # 1: importaciones, 2: exportaciones\n",
    "    \"cc\": \"2214,041,4216,044\", # commodity code: 2214 \"Soya\" / 041 \"Wheat\" / 4216 \"Sunflower\" / 044 \"Corn\"\n",
    "    \"max\": 50000, # cantidad máxima de resultados (50.000 es un máximo absoluto)\n",
    "    \"head\": \"H\", # M: machine readable headers, H: human readable headers\n",
    "}"
   ]
  },
  {
   "cell_type": "code",
   "execution_count": 14,
   "metadata": {
    "collapsed": false
   },
   "outputs": [],
   "source": [
    "# si internet funciona\n",
    "# res = requests.get(API_COMTRADE, params=params)\n",
    "# json_res = res.json()\n",
    "\n",
    "# si internet no funciona\n",
    "with open(\"data/comtrade-cultivos-principales.json\", \"rb\") as f:\n",
    "    json_res = json.load(f)"
   ]
  },
  {
   "cell_type": "code",
   "execution_count": 15,
   "metadata": {
    "collapsed": false
   },
   "outputs": [],
   "source": [
    "df_comtrade = pd.DataFrame(json_res[\"dataset\"])"
   ]
  },
  {
   "cell_type": "code",
   "execution_count": 16,
   "metadata": {
    "collapsed": false
   },
   "outputs": [
    {
     "data": {
      "text/html": [
       "<div>\n",
       "<table border=\"1\" class=\"dataframe\">\n",
       "  <thead>\n",
       "    <tr style=\"text-align: right;\">\n",
       "      <th></th>\n",
       "      <th>AltQuantity</th>\n",
       "      <th>CIFValue</th>\n",
       "      <th>FOBValue</th>\n",
       "      <th>GrossWeight</th>\n",
       "      <th>IsLeaf</th>\n",
       "      <th>NetWeight</th>\n",
       "      <th>TradeQuantity</th>\n",
       "      <th>TradeValue</th>\n",
       "      <th>aggrLevel</th>\n",
       "      <th>cmdCode</th>\n",
       "      <th>...</th>\n",
       "      <th>qtAltCode</th>\n",
       "      <th>qtAltDesc</th>\n",
       "      <th>qtCode</th>\n",
       "      <th>qtDesc</th>\n",
       "      <th>rgCode</th>\n",
       "      <th>rgDesc</th>\n",
       "      <th>rt3ISO</th>\n",
       "      <th>rtCode</th>\n",
       "      <th>rtTitle</th>\n",
       "      <th>yr</th>\n",
       "    </tr>\n",
       "  </thead>\n",
       "  <tbody>\n",
       "    <tr>\n",
       "      <th>0</th>\n",
       "      <td>None</td>\n",
       "      <td>None</td>\n",
       "      <td>None</td>\n",
       "      <td>None</td>\n",
       "      <td>0</td>\n",
       "      <td>2832336128</td>\n",
       "      <td>2832336128</td>\n",
       "      <td>173363088</td>\n",
       "      <td>3</td>\n",
       "      <td>041</td>\n",
       "      <td>...</td>\n",
       "      <td>None</td>\n",
       "      <td></td>\n",
       "      <td>8</td>\n",
       "      <td>Weight in kilograms</td>\n",
       "      <td>2</td>\n",
       "      <td>Export</td>\n",
       "      <td>ARG</td>\n",
       "      <td>32</td>\n",
       "      <td>Argentina</td>\n",
       "      <td>1962</td>\n",
       "    </tr>\n",
       "    <tr>\n",
       "      <th>1</th>\n",
       "      <td>None</td>\n",
       "      <td>None</td>\n",
       "      <td>None</td>\n",
       "      <td>None</td>\n",
       "      <td>0</td>\n",
       "      <td>1830655616</td>\n",
       "      <td>1830655616</td>\n",
       "      <td>116388784</td>\n",
       "      <td>3</td>\n",
       "      <td>041</td>\n",
       "      <td>...</td>\n",
       "      <td>None</td>\n",
       "      <td></td>\n",
       "      <td>8</td>\n",
       "      <td>Weight in kilograms</td>\n",
       "      <td>2</td>\n",
       "      <td>Export</td>\n",
       "      <td>ARG</td>\n",
       "      <td>32</td>\n",
       "      <td>Argentina</td>\n",
       "      <td>1963</td>\n",
       "    </tr>\n",
       "    <tr>\n",
       "      <th>2</th>\n",
       "      <td>None</td>\n",
       "      <td>None</td>\n",
       "      <td>None</td>\n",
       "      <td>None</td>\n",
       "      <td>0</td>\n",
       "      <td>3710008576</td>\n",
       "      <td>3710008576</td>\n",
       "      <td>242256288</td>\n",
       "      <td>3</td>\n",
       "      <td>041</td>\n",
       "      <td>...</td>\n",
       "      <td>None</td>\n",
       "      <td></td>\n",
       "      <td>8</td>\n",
       "      <td>Weight in kilograms</td>\n",
       "      <td>2</td>\n",
       "      <td>Export</td>\n",
       "      <td>ARG</td>\n",
       "      <td>32</td>\n",
       "      <td>Argentina</td>\n",
       "      <td>1964</td>\n",
       "    </tr>\n",
       "  </tbody>\n",
       "</table>\n",
       "<p>3 rows × 35 columns</p>\n",
       "</div>"
      ],
      "text/plain": [
       "  AltQuantity CIFValue FOBValue GrossWeight  IsLeaf   NetWeight  \\\n",
       "0        None     None     None        None       0  2832336128   \n",
       "1        None     None     None        None       0  1830655616   \n",
       "2        None     None     None        None       0  3710008576   \n",
       "\n",
       "   TradeQuantity  TradeValue  aggrLevel cmdCode  ...  qtAltCode qtAltDesc  \\\n",
       "0     2832336128   173363088          3     041  ...       None             \n",
       "1     1830655616   116388784          3     041  ...       None             \n",
       "2     3710008576   242256288          3     041  ...       None             \n",
       "\n",
       "  qtCode               qtDesc rgCode  rgDesc  rt3ISO rtCode    rtTitle    yr  \n",
       "0      8  Weight in kilograms      2  Export     ARG     32  Argentina  1962  \n",
       "1      8  Weight in kilograms      2  Export     ARG     32  Argentina  1963  \n",
       "2      8  Weight in kilograms      2  Export     ARG     32  Argentina  1964  \n",
       "\n",
       "[3 rows x 35 columns]"
      ]
     },
     "execution_count": 16,
     "metadata": {},
     "output_type": "execute_result"
    }
   ],
   "source": [
    "df_comtrade.head(3)"
   ]
  },
  {
   "cell_type": "code",
   "execution_count": 17,
   "metadata": {
    "collapsed": false
   },
   "outputs": [
    {
     "data": {
      "text/html": [
       "<div>\n",
       "<table border=\"1\" class=\"dataframe\">\n",
       "  <thead>\n",
       "    <tr style=\"text-align: right;\">\n",
       "      <th></th>\n",
       "      <th>0</th>\n",
       "      <th>1</th>\n",
       "      <th>2</th>\n",
       "    </tr>\n",
       "  </thead>\n",
       "  <tbody>\n",
       "    <tr>\n",
       "      <th>AltQuantity</th>\n",
       "      <td>None</td>\n",
       "      <td>None</td>\n",
       "      <td>None</td>\n",
       "    </tr>\n",
       "    <tr>\n",
       "      <th>CIFValue</th>\n",
       "      <td>None</td>\n",
       "      <td>None</td>\n",
       "      <td>None</td>\n",
       "    </tr>\n",
       "    <tr>\n",
       "      <th>FOBValue</th>\n",
       "      <td>None</td>\n",
       "      <td>None</td>\n",
       "      <td>None</td>\n",
       "    </tr>\n",
       "    <tr>\n",
       "      <th>GrossWeight</th>\n",
       "      <td>None</td>\n",
       "      <td>None</td>\n",
       "      <td>None</td>\n",
       "    </tr>\n",
       "    <tr>\n",
       "      <th>IsLeaf</th>\n",
       "      <td>0</td>\n",
       "      <td>0</td>\n",
       "      <td>0</td>\n",
       "    </tr>\n",
       "    <tr>\n",
       "      <th>NetWeight</th>\n",
       "      <td>2832336128</td>\n",
       "      <td>1830655616</td>\n",
       "      <td>3710008576</td>\n",
       "    </tr>\n",
       "    <tr>\n",
       "      <th>TradeQuantity</th>\n",
       "      <td>2832336128</td>\n",
       "      <td>1830655616</td>\n",
       "      <td>3710008576</td>\n",
       "    </tr>\n",
       "    <tr>\n",
       "      <th>TradeValue</th>\n",
       "      <td>173363088</td>\n",
       "      <td>116388784</td>\n",
       "      <td>242256288</td>\n",
       "    </tr>\n",
       "    <tr>\n",
       "      <th>aggrLevel</th>\n",
       "      <td>3</td>\n",
       "      <td>3</td>\n",
       "      <td>3</td>\n",
       "    </tr>\n",
       "    <tr>\n",
       "      <th>cmdCode</th>\n",
       "      <td>041</td>\n",
       "      <td>041</td>\n",
       "      <td>041</td>\n",
       "    </tr>\n",
       "    <tr>\n",
       "      <th>cmdDescE</th>\n",
       "      <td>Wheat  including spelt   and meslin, unmilled</td>\n",
       "      <td>Wheat  including spelt   and meslin, unmilled</td>\n",
       "      <td>Wheat  including spelt   and meslin, unmilled</td>\n",
       "    </tr>\n",
       "    <tr>\n",
       "      <th>cstCode</th>\n",
       "      <td></td>\n",
       "      <td></td>\n",
       "      <td></td>\n",
       "    </tr>\n",
       "    <tr>\n",
       "      <th>cstDesc</th>\n",
       "      <td></td>\n",
       "      <td></td>\n",
       "      <td></td>\n",
       "    </tr>\n",
       "    <tr>\n",
       "      <th>estCode</th>\n",
       "      <td>0</td>\n",
       "      <td>0</td>\n",
       "      <td>0</td>\n",
       "    </tr>\n",
       "    <tr>\n",
       "      <th>motCode</th>\n",
       "      <td></td>\n",
       "      <td></td>\n",
       "      <td></td>\n",
       "    </tr>\n",
       "    <tr>\n",
       "      <th>motDesc</th>\n",
       "      <td></td>\n",
       "      <td></td>\n",
       "      <td></td>\n",
       "    </tr>\n",
       "    <tr>\n",
       "      <th>period</th>\n",
       "      <td>1962</td>\n",
       "      <td>1963</td>\n",
       "      <td>1964</td>\n",
       "    </tr>\n",
       "    <tr>\n",
       "      <th>periodDesc</th>\n",
       "      <td>1962</td>\n",
       "      <td>1963</td>\n",
       "      <td>1964</td>\n",
       "    </tr>\n",
       "    <tr>\n",
       "      <th>pfCode</th>\n",
       "      <td>S1</td>\n",
       "      <td>S1</td>\n",
       "      <td>S1</td>\n",
       "    </tr>\n",
       "    <tr>\n",
       "      <th>pt3ISO</th>\n",
       "      <td>WLD</td>\n",
       "      <td>WLD</td>\n",
       "      <td>WLD</td>\n",
       "    </tr>\n",
       "    <tr>\n",
       "      <th>pt3ISO2</th>\n",
       "      <td></td>\n",
       "      <td></td>\n",
       "      <td></td>\n",
       "    </tr>\n",
       "    <tr>\n",
       "      <th>ptCode</th>\n",
       "      <td>0</td>\n",
       "      <td>0</td>\n",
       "      <td>0</td>\n",
       "    </tr>\n",
       "    <tr>\n",
       "      <th>ptCode2</th>\n",
       "      <td>None</td>\n",
       "      <td>None</td>\n",
       "      <td>None</td>\n",
       "    </tr>\n",
       "    <tr>\n",
       "      <th>ptTitle</th>\n",
       "      <td>World</td>\n",
       "      <td>World</td>\n",
       "      <td>World</td>\n",
       "    </tr>\n",
       "    <tr>\n",
       "      <th>ptTitle2</th>\n",
       "      <td></td>\n",
       "      <td></td>\n",
       "      <td></td>\n",
       "    </tr>\n",
       "    <tr>\n",
       "      <th>qtAltCode</th>\n",
       "      <td>None</td>\n",
       "      <td>None</td>\n",
       "      <td>None</td>\n",
       "    </tr>\n",
       "    <tr>\n",
       "      <th>qtAltDesc</th>\n",
       "      <td></td>\n",
       "      <td></td>\n",
       "      <td></td>\n",
       "    </tr>\n",
       "    <tr>\n",
       "      <th>qtCode</th>\n",
       "      <td>8</td>\n",
       "      <td>8</td>\n",
       "      <td>8</td>\n",
       "    </tr>\n",
       "    <tr>\n",
       "      <th>qtDesc</th>\n",
       "      <td>Weight in kilograms</td>\n",
       "      <td>Weight in kilograms</td>\n",
       "      <td>Weight in kilograms</td>\n",
       "    </tr>\n",
       "    <tr>\n",
       "      <th>rgCode</th>\n",
       "      <td>2</td>\n",
       "      <td>2</td>\n",
       "      <td>2</td>\n",
       "    </tr>\n",
       "    <tr>\n",
       "      <th>rgDesc</th>\n",
       "      <td>Export</td>\n",
       "      <td>Export</td>\n",
       "      <td>Export</td>\n",
       "    </tr>\n",
       "    <tr>\n",
       "      <th>rt3ISO</th>\n",
       "      <td>ARG</td>\n",
       "      <td>ARG</td>\n",
       "      <td>ARG</td>\n",
       "    </tr>\n",
       "    <tr>\n",
       "      <th>rtCode</th>\n",
       "      <td>32</td>\n",
       "      <td>32</td>\n",
       "      <td>32</td>\n",
       "    </tr>\n",
       "    <tr>\n",
       "      <th>rtTitle</th>\n",
       "      <td>Argentina</td>\n",
       "      <td>Argentina</td>\n",
       "      <td>Argentina</td>\n",
       "    </tr>\n",
       "    <tr>\n",
       "      <th>yr</th>\n",
       "      <td>1962</td>\n",
       "      <td>1963</td>\n",
       "      <td>1964</td>\n",
       "    </tr>\n",
       "  </tbody>\n",
       "</table>\n",
       "</div>"
      ],
      "text/plain": [
       "                                                           0  \\\n",
       "AltQuantity                                             None   \n",
       "CIFValue                                                None   \n",
       "FOBValue                                                None   \n",
       "GrossWeight                                             None   \n",
       "IsLeaf                                                     0   \n",
       "NetWeight                                         2832336128   \n",
       "TradeQuantity                                     2832336128   \n",
       "TradeValue                                         173363088   \n",
       "aggrLevel                                                  3   \n",
       "cmdCode                                                  041   \n",
       "cmdDescE       Wheat  including spelt   and meslin, unmilled   \n",
       "cstCode                                                        \n",
       "cstDesc                                                        \n",
       "estCode                                                    0   \n",
       "motCode                                                        \n",
       "motDesc                                                        \n",
       "period                                                  1962   \n",
       "periodDesc                                              1962   \n",
       "pfCode                                                    S1   \n",
       "pt3ISO                                                   WLD   \n",
       "pt3ISO2                                                        \n",
       "ptCode                                                     0   \n",
       "ptCode2                                                 None   \n",
       "ptTitle                                                World   \n",
       "ptTitle2                                                       \n",
       "qtAltCode                                               None   \n",
       "qtAltDesc                                                      \n",
       "qtCode                                                     8   \n",
       "qtDesc                                   Weight in kilograms   \n",
       "rgCode                                                     2   \n",
       "rgDesc                                                Export   \n",
       "rt3ISO                                                   ARG   \n",
       "rtCode                                                    32   \n",
       "rtTitle                                            Argentina   \n",
       "yr                                                      1962   \n",
       "\n",
       "                                                           1  \\\n",
       "AltQuantity                                             None   \n",
       "CIFValue                                                None   \n",
       "FOBValue                                                None   \n",
       "GrossWeight                                             None   \n",
       "IsLeaf                                                     0   \n",
       "NetWeight                                         1830655616   \n",
       "TradeQuantity                                     1830655616   \n",
       "TradeValue                                         116388784   \n",
       "aggrLevel                                                  3   \n",
       "cmdCode                                                  041   \n",
       "cmdDescE       Wheat  including spelt   and meslin, unmilled   \n",
       "cstCode                                                        \n",
       "cstDesc                                                        \n",
       "estCode                                                    0   \n",
       "motCode                                                        \n",
       "motDesc                                                        \n",
       "period                                                  1963   \n",
       "periodDesc                                              1963   \n",
       "pfCode                                                    S1   \n",
       "pt3ISO                                                   WLD   \n",
       "pt3ISO2                                                        \n",
       "ptCode                                                     0   \n",
       "ptCode2                                                 None   \n",
       "ptTitle                                                World   \n",
       "ptTitle2                                                       \n",
       "qtAltCode                                               None   \n",
       "qtAltDesc                                                      \n",
       "qtCode                                                     8   \n",
       "qtDesc                                   Weight in kilograms   \n",
       "rgCode                                                     2   \n",
       "rgDesc                                                Export   \n",
       "rt3ISO                                                   ARG   \n",
       "rtCode                                                    32   \n",
       "rtTitle                                            Argentina   \n",
       "yr                                                      1963   \n",
       "\n",
       "                                                           2  \n",
       "AltQuantity                                             None  \n",
       "CIFValue                                                None  \n",
       "FOBValue                                                None  \n",
       "GrossWeight                                             None  \n",
       "IsLeaf                                                     0  \n",
       "NetWeight                                         3710008576  \n",
       "TradeQuantity                                     3710008576  \n",
       "TradeValue                                         242256288  \n",
       "aggrLevel                                                  3  \n",
       "cmdCode                                                  041  \n",
       "cmdDescE       Wheat  including spelt   and meslin, unmilled  \n",
       "cstCode                                                       \n",
       "cstDesc                                                       \n",
       "estCode                                                    0  \n",
       "motCode                                                       \n",
       "motDesc                                                       \n",
       "period                                                  1964  \n",
       "periodDesc                                              1964  \n",
       "pfCode                                                    S1  \n",
       "pt3ISO                                                   WLD  \n",
       "pt3ISO2                                                       \n",
       "ptCode                                                     0  \n",
       "ptCode2                                                 None  \n",
       "ptTitle                                                World  \n",
       "ptTitle2                                                      \n",
       "qtAltCode                                               None  \n",
       "qtAltDesc                                                     \n",
       "qtCode                                                     8  \n",
       "qtDesc                                   Weight in kilograms  \n",
       "rgCode                                                     2  \n",
       "rgDesc                                                Export  \n",
       "rt3ISO                                                   ARG  \n",
       "rtCode                                                    32  \n",
       "rtTitle                                            Argentina  \n",
       "yr                                                      1964  "
      ]
     },
     "execution_count": 17,
     "metadata": {},
     "output_type": "execute_result"
    }
   ],
   "source": [
    "df_comtrade.head(3).transpose()"
   ]
  },
  {
   "cell_type": "code",
   "execution_count": 18,
   "metadata": {
    "collapsed": false
   },
   "outputs": [],
   "source": [
    "# TODO: comentar en español al lado de cada campo qué es\n",
    "columns = [\"rgDesc\", \"rtTitle\", \"ptTitle\", \"yr\",\n",
    "           \"cmdCode\", \"cmdDescE\", \"TradeValue\", \"TradeQuantity\", \"qtDesc\"]"
   ]
  },
  {
   "cell_type": "code",
   "execution_count": 19,
   "metadata": {
    "collapsed": false
   },
   "outputs": [
    {
     "data": {
      "text/html": [
       "<div>\n",
       "<table border=\"1\" class=\"dataframe\">\n",
       "  <thead>\n",
       "    <tr style=\"text-align: right;\">\n",
       "      <th></th>\n",
       "      <th>rgDesc</th>\n",
       "      <th>rtTitle</th>\n",
       "      <th>ptTitle</th>\n",
       "      <th>yr</th>\n",
       "      <th>cmdCode</th>\n",
       "      <th>cmdDescE</th>\n",
       "      <th>TradeValue</th>\n",
       "      <th>TradeQuantity</th>\n",
       "      <th>qtDesc</th>\n",
       "    </tr>\n",
       "  </thead>\n",
       "  <tbody>\n",
       "    <tr>\n",
       "      <th>0</th>\n",
       "      <td>Export</td>\n",
       "      <td>Argentina</td>\n",
       "      <td>World</td>\n",
       "      <td>1962</td>\n",
       "      <td>041</td>\n",
       "      <td>Wheat  including spelt   and meslin, unmilled</td>\n",
       "      <td>173363088</td>\n",
       "      <td>2832336128</td>\n",
       "      <td>Weight in kilograms</td>\n",
       "    </tr>\n",
       "    <tr>\n",
       "      <th>1</th>\n",
       "      <td>Export</td>\n",
       "      <td>Argentina</td>\n",
       "      <td>World</td>\n",
       "      <td>1963</td>\n",
       "      <td>041</td>\n",
       "      <td>Wheat  including spelt   and meslin, unmilled</td>\n",
       "      <td>116388784</td>\n",
       "      <td>1830655616</td>\n",
       "      <td>Weight in kilograms</td>\n",
       "    </tr>\n",
       "    <tr>\n",
       "      <th>2</th>\n",
       "      <td>Export</td>\n",
       "      <td>Argentina</td>\n",
       "      <td>World</td>\n",
       "      <td>1964</td>\n",
       "      <td>041</td>\n",
       "      <td>Wheat  including spelt   and meslin, unmilled</td>\n",
       "      <td>242256288</td>\n",
       "      <td>3710008576</td>\n",
       "      <td>Weight in kilograms</td>\n",
       "    </tr>\n",
       "    <tr>\n",
       "      <th>3</th>\n",
       "      <td>Export</td>\n",
       "      <td>Argentina</td>\n",
       "      <td>World</td>\n",
       "      <td>1965</td>\n",
       "      <td>041</td>\n",
       "      <td>Wheat  including spelt   and meslin, unmilled</td>\n",
       "      <td>372666400</td>\n",
       "      <td>6660583936</td>\n",
       "      <td>Weight in kilograms</td>\n",
       "    </tr>\n",
       "    <tr>\n",
       "      <th>4</th>\n",
       "      <td>Export</td>\n",
       "      <td>Argentina</td>\n",
       "      <td>World</td>\n",
       "      <td>1966</td>\n",
       "      <td>041</td>\n",
       "      <td>Wheat  including spelt   and meslin, unmilled</td>\n",
       "      <td>279624704</td>\n",
       "      <td>5054666240</td>\n",
       "      <td>Weight in kilograms</td>\n",
       "    </tr>\n",
       "  </tbody>\n",
       "</table>\n",
       "</div>"
      ],
      "text/plain": [
       "   rgDesc    rtTitle ptTitle    yr cmdCode  \\\n",
       "0  Export  Argentina   World  1962     041   \n",
       "1  Export  Argentina   World  1963     041   \n",
       "2  Export  Argentina   World  1964     041   \n",
       "3  Export  Argentina   World  1965     041   \n",
       "4  Export  Argentina   World  1966     041   \n",
       "\n",
       "                                        cmdDescE  TradeValue  TradeQuantity  \\\n",
       "0  Wheat  including spelt   and meslin, unmilled   173363088     2832336128   \n",
       "1  Wheat  including spelt   and meslin, unmilled   116388784     1830655616   \n",
       "2  Wheat  including spelt   and meslin, unmilled   242256288     3710008576   \n",
       "3  Wheat  including spelt   and meslin, unmilled   372666400     6660583936   \n",
       "4  Wheat  including spelt   and meslin, unmilled   279624704     5054666240   \n",
       "\n",
       "                qtDesc  \n",
       "0  Weight in kilograms  \n",
       "1  Weight in kilograms  \n",
       "2  Weight in kilograms  \n",
       "3  Weight in kilograms  \n",
       "4  Weight in kilograms  "
      ]
     },
     "execution_count": 19,
     "metadata": {},
     "output_type": "execute_result"
    }
   ],
   "source": [
    "df_comtrade[columns].head(5)"
   ]
  },
  {
   "cell_type": "code",
   "execution_count": 20,
   "metadata": {
    "collapsed": false
   },
   "outputs": [
    {
     "data": {
      "text/html": [
       "<div>\n",
       "<table border=\"1\" class=\"dataframe\">\n",
       "  <thead>\n",
       "    <tr style=\"text-align: right;\">\n",
       "      <th></th>\n",
       "      <th>rgDesc</th>\n",
       "      <th>rtTitle</th>\n",
       "      <th>ptTitle</th>\n",
       "      <th>yr</th>\n",
       "      <th>cmdCode</th>\n",
       "      <th>cmdDescE</th>\n",
       "      <th>TradeValue</th>\n",
       "      <th>TradeQuantity</th>\n",
       "      <th>qtDesc</th>\n",
       "    </tr>\n",
       "  </thead>\n",
       "  <tbody>\n",
       "    <tr>\n",
       "      <th>202</th>\n",
       "      <td>Export</td>\n",
       "      <td>Argentina</td>\n",
       "      <td>World</td>\n",
       "      <td>2011</td>\n",
       "      <td>4216</td>\n",
       "      <td>Sunflower seed oil</td>\n",
       "      <td>1176553428</td>\n",
       "      <td>908109965</td>\n",
       "      <td>Weight in kilograms</td>\n",
       "    </tr>\n",
       "    <tr>\n",
       "      <th>203</th>\n",
       "      <td>Export</td>\n",
       "      <td>Argentina</td>\n",
       "      <td>World</td>\n",
       "      <td>2012</td>\n",
       "      <td>4216</td>\n",
       "      <td>Sunflower seed oil</td>\n",
       "      <td>928531664</td>\n",
       "      <td>790948144</td>\n",
       "      <td>Weight in kilograms</td>\n",
       "    </tr>\n",
       "    <tr>\n",
       "      <th>204</th>\n",
       "      <td>Export</td>\n",
       "      <td>Argentina</td>\n",
       "      <td>World</td>\n",
       "      <td>2013</td>\n",
       "      <td>4216</td>\n",
       "      <td>Sunflower seed oil</td>\n",
       "      <td>528181934</td>\n",
       "      <td>447704974</td>\n",
       "      <td>Weight in kilograms</td>\n",
       "    </tr>\n",
       "    <tr>\n",
       "      <th>205</th>\n",
       "      <td>Export</td>\n",
       "      <td>Argentina</td>\n",
       "      <td>World</td>\n",
       "      <td>2014</td>\n",
       "      <td>4216</td>\n",
       "      <td>Sunflower seed oil</td>\n",
       "      <td>366774725</td>\n",
       "      <td>349370968</td>\n",
       "      <td>Weight in kilograms</td>\n",
       "    </tr>\n",
       "    <tr>\n",
       "      <th>206</th>\n",
       "      <td>Export</td>\n",
       "      <td>Argentina</td>\n",
       "      <td>World</td>\n",
       "      <td>2015</td>\n",
       "      <td>4216</td>\n",
       "      <td>Sunflower seed oil</td>\n",
       "      <td>405056803</td>\n",
       "      <td>439193748</td>\n",
       "      <td>Weight in kilograms</td>\n",
       "    </tr>\n",
       "  </tbody>\n",
       "</table>\n",
       "</div>"
      ],
      "text/plain": [
       "     rgDesc    rtTitle ptTitle    yr cmdCode            cmdDescE  TradeValue  \\\n",
       "202  Export  Argentina   World  2011    4216  Sunflower seed oil  1176553428   \n",
       "203  Export  Argentina   World  2012    4216  Sunflower seed oil   928531664   \n",
       "204  Export  Argentina   World  2013    4216  Sunflower seed oil   528181934   \n",
       "205  Export  Argentina   World  2014    4216  Sunflower seed oil   366774725   \n",
       "206  Export  Argentina   World  2015    4216  Sunflower seed oil   405056803   \n",
       "\n",
       "     TradeQuantity               qtDesc  \n",
       "202      908109965  Weight in kilograms  \n",
       "203      790948144  Weight in kilograms  \n",
       "204      447704974  Weight in kilograms  \n",
       "205      349370968  Weight in kilograms  \n",
       "206      439193748  Weight in kilograms  "
      ]
     },
     "execution_count": 20,
     "metadata": {},
     "output_type": "execute_result"
    }
   ],
   "source": [
    "df_comtrade[columns].tail(5)"
   ]
  },
  {
   "cell_type": "code",
   "execution_count": 42,
   "metadata": {
    "collapsed": true
   },
   "outputs": [],
   "source": [
    "df_comtrade[\"precio_ton\"] = df_comtrade.TradeValue / df_comtrade.TradeQuantity * 1000\n",
    "df_precios = df_comtrade.pivot(index='yr',columns='cmdDescE',values='precio_ton')\n",
    "df_precios.columns = ['Maiz', 'Soja', 'Girasol','Trigo']"
   ]
  },
  {
   "cell_type": "code",
   "execution_count": 22,
   "metadata": {
    "collapsed": false
   },
   "outputs": [],
   "source": [
    "precios_soja = df_comtrade[df_comtrade.cmdCode == \"2214\"][[\"yr\", \"precio_ton\"]].sort_values(\"yr\").set_index(\"yr\")"
   ]
  },
  {
   "cell_type": "code",
   "execution_count": 24,
   "metadata": {
    "collapsed": false
   },
   "outputs": [
    {
     "data": {
      "text/plain": [
       "<matplotlib.axes._subplots.AxesSubplot at 0x7ff75aabfb10>"
      ]
     },
     "execution_count": 24,
     "metadata": {},
     "output_type": "execute_result"
    },
    {
     "data": {
      "image/png": "[encoded data removed]",
      "text/plain": [
       "<matplotlib.figure.Figure at 0x7ff75a9618d0>"
      ]
     },
     "metadata": {},
     "output_type": "display_data"
    }
   ],
   "source": [
    "precios_soja[precios_soja.index >= 1980].plot.line()"
   ]
  },
  {
   "cell_type": "code",
   "execution_count": 25,
   "metadata": {
    "collapsed": true
   },
   "outputs": [],
   "source": [
    "precios_trigo = df_comtrade[df_comtrade.cmdCode == \"041\"][[\"yr\", \"precio_ton\"]].sort_values(\"yr\").set_index(\"yr\")"
   ]
  },
  {
   "cell_type": "code",
   "execution_count": 26,
   "metadata": {
    "collapsed": false
   },
   "outputs": [
    {
     "data": {
      "text/plain": [
       "<matplotlib.axes._subplots.AxesSubplot at 0x7ff759d87dd0>"
      ]
     },
     "execution_count": 26,
     "metadata": {},
     "output_type": "execute_result"
    },
    {
     "data": {
      "image/png": "[encoded data removed]",
      "text/plain": [
       "<matplotlib.figure.Figure at 0x7ff75b0f3d10>"
      ]
     },
     "metadata": {},
     "output_type": "display_data"
    }
   ],
   "source": [
    "precios_trigo[precios_trigo.index >= 1980].plot.line()"
   ]
  },
  {
   "cell_type": "code",
   "execution_count": 27,
   "metadata": {
    "collapsed": true
   },
   "outputs": [],
   "source": [
    "precios_maiz = df_comtrade[df_comtrade.cmdCode == \"044\"][[\"yr\", \"precio_ton\"]].sort_values(\"yr\").set_index(\"yr\")"
   ]
  },
  {
   "cell_type": "code",
   "execution_count": 39,
   "metadata": {
    "collapsed": false
   },
   "outputs": [
    {
     "data": {
      "text/plain": [
       "<matplotlib.axes._subplots.AxesSubplot at 0x10ff7be10>"
      ]
     },
     "execution_count": 39,
     "metadata": {},
     "output_type": "execute_result"
    },
    {
     "data": {
      "image/png": "[encoded data removed]",
      "text/plain": [
       "<matplotlib.figure.Figure at 0x11005a1d0>"
      ]
     },
     "metadata": {},
     "output_type": "display_data"
    }
   ],
   "source": [
    "precios_maiz[precios_maiz.index >= 1980].plot.line()"
   ]
  },
  {
   "cell_type": "code",
   "execution_count": 40,
   "metadata": {
    "collapsed": true
   },
   "outputs": [],
   "source": [
    "precios_girasol = df_comtrade[df_comtrade.cmdCode == \"4216\"][[\"yr\", \"precio_ton\"]].sort_values(\"yr\").set_index(\"yr\")"
   ]
  },
  {
   "cell_type": "code",
   "execution_count": 41,
   "metadata": {
    "collapsed": false
   },
   "outputs": [
    {
     "data": {
      "text/plain": [
       "<matplotlib.axes._subplots.AxesSubplot at 0x1100b1c90>"
      ]
     },
     "execution_count": 41,
     "metadata": {},
     "output_type": "execute_result"
    },
    {
     "data": {
      "image/png": "[encoded data removed]",
      "text/plain": [
       "<matplotlib.figure.Figure at 0x110043b50>"
      ]
     },
     "metadata": {},
     "output_type": "display_data"
    }
   ],
   "source": [
    "precios_girasol[precios_girasol.index >= 1980].plot.line()"
   ]
  },
  {
   "cell_type": "markdown",
   "metadata": {},
   "source": [
    "## 2. Exploración inicial"
   ]
  },
  {
   "cell_type": "code",
   "execution_count": 43,
   "metadata": {
    "collapsed": false
   },
   "outputs": [
    {
     "data": {
      "text/plain": [
       "<matplotlib.axes._subplots.AxesSubplot at 0x7ff754e790d0>"
      ]
     },
     "execution_count": 43,
     "metadata": {},
     "output_type": "execute_result"
    },
    {
     "data": {
      "image/png": "[encoded data removed]",
      "text/plain": [
       "<matplotlib.figure.Figure at 0x7ff754e0d450>"
      ]
     },
     "metadata": {},
     "output_type": "display_data"
    }
   ],
   "source": [
    "df_precios[df_precios.index>1980].plot()"
   ]
  },
  {
   "cell_type": "code",
   "execution_count": 56,
   "metadata": {
    "collapsed": false
   },
   "outputs": [
    {
     "data": {
      "text/plain": [
       "array([[<matplotlib.axes._subplots.AxesSubplot object at 0x7ff74d998e90>,\n",
       "        <matplotlib.axes._subplots.AxesSubplot object at 0x7ff74da14510>,\n",
       "        <matplotlib.axes._subplots.AxesSubplot object at 0x7ff747d77a90>,\n",
       "        <matplotlib.axes._subplots.AxesSubplot object at 0x7ff747cd7c50>],\n",
       "       [<matplotlib.axes._subplots.AxesSubplot object at 0x7ff747c5acd0>,\n",
       "        <matplotlib.axes._subplots.AxesSubplot object at 0x7ff747cfc3d0>,\n",
       "        <matplotlib.axes._subplots.AxesSubplot object at 0x7ff747b49f50>,\n",
       "        <matplotlib.axes._subplots.AxesSubplot object at 0x7ff747acded0>],\n",
       "       [<matplotlib.axes._subplots.AxesSubplot object at 0x7ff747aba610>,\n",
       "        <matplotlib.axes._subplots.AxesSubplot object at 0x7ff747a3d590>,\n",
       "        <matplotlib.axes._subplots.AxesSubplot object at 0x7ff7479a06d0>,\n",
       "        <matplotlib.axes._subplots.AxesSubplot object at 0x7ff747922750>],\n",
       "       [<matplotlib.axes._subplots.AxesSubplot object at 0x7ff7478db910>,\n",
       "        <matplotlib.axes._subplots.AxesSubplot object at 0x7ff7478137d0>,\n",
       "        <matplotlib.axes._subplots.AxesSubplot object at 0x7ff747794750>,\n",
       "        <matplotlib.axes._subplots.AxesSubplot object at 0x7ff747778990>]], dtype=object)"
      ]
     },
     "execution_count": 56,
     "metadata": {},
     "output_type": "execute_result"
    },
    {
     "data": {
      "image/png": "[encoded data removed]",
      "text/plain": [
       "<matplotlib.figure.Figure at 0x7ff74d9b9dd0>"
      ]
     },
     "metadata": {},
     "output_type": "display_data"
    }
   ],
   "source": [
    "from pandas.tools.plotting import scatter_matrix\n",
    "\n",
    "scatter_matrix(df_precios, figsize=(10,10), s=200)"
   ]
  },
  {
   "cell_type": "markdown",
   "metadata": {},
   "source": [
    "## 3. Mapas"
   ]
  },
  {
   "cell_type": "markdown",
   "metadata": {},
   "source": [
    "## 4. Inferencia estadística"
   ]
  },
  {
   "cell_type": "code",
   "execution_count": null,
   "metadata": {
    "collapsed": true
   },
   "outputs": [],
   "source": []
  }
 ],
 "metadata": {
  "kernelspec": {
   "display_name": "Python [Root]",
   "language": "python",
   "name": "Python [Root]"
  },
  "language_info": {
   "codemirror_mode": {
    "name": "ipython",
    "version": 2
   },
   "file_extension": ".py",
   "mimetype": "text/x-python",
   "name": "python",
   "nbconvert_exporter": "python",
   "pygments_lexer": "ipython2",
   "version": "2.7.12"
  }
 },
 "nbformat": 4,
 "nbformat_minor": 1
}
