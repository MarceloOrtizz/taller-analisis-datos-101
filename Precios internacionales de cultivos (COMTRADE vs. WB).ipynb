{
 "cells": [
  {
   "cell_type": "markdown",
   "metadata": {},
   "source": [
    "# Precios internacionales de cultivos (COMTRADE vs. WB)"
   ]
  },
  {
   "cell_type": "markdown",
   "metadata": {},
   "source": [
    "Se calculan los precios de cultivos que exporta la Argentina usando la API de COMTRADE y se compara su evolución con precios internacionales extraídos de la API de WB."
   ]
  },
  {
   "cell_type": "code",
   "execution_count": 4,
   "metadata": {
    "collapsed": false
   },
   "outputs": [
    {
     "name": "stderr",
     "output_type": "stream",
     "text": [
      "/Users/abenassi/anaconda/envs/taller_analisis/lib/python2.7/site-packages/matplotlib/font_manager.py:273: UserWarning: Matplotlib is building the font cache using fc-list. This may take a moment.\n",
      "  warnings.warn('Matplotlib is building the font cache using fc-list. This may take a moment.')\n"
     ]
    }
   ],
   "source": [
    "import pandas as pd\n",
    "import requests\n",
    "import json\n",
    "import matplotlib\n",
    "%matplotlib inline\n",
    "matplotlib.style.use(\"ggplot\")"
   ]
  },
  {
   "cell_type": "markdown",
   "metadata": {},
   "source": [
    "## COMTRADE"
   ]
  },
  {
   "cell_type": "markdown",
   "metadata": {},
   "source": [
    "La base de datos de comercio exterior de Naciones Unidas (UN COMTRADE - https://comtrade.un.org/) contiene datos de importación/exportación (valores monetarios y, en muchos casos, cantidades) entre países del mundo, con varias décadas de datos disponibles (a veces desde los 60's/70's). \n",
    "\n",
    "Una forma de calcular los precios que recibe la Argentina por la exportación de algunos de sus cultivos, es tomar los datos de COMTRADE y dividir valor exportado por cantidades exportadas. Esto tiene la ventaja de ser (potencialmente) un precio de efecto algo más representativo para el país exportador (pero cuidado! no siempre funciona bien).\n",
    "\n",
    "A continuación construimos estos *precios promedio* para Soja y Trigo con datos de COMTRADE, para compararlos más adelante con precios internacionales de una base del Banco Mundial."
   ]
  },
  {
   "cell_type": "code",
   "execution_count": 5,
   "metadata": {
    "collapsed": true
   },
   "outputs": [],
   "source": [
    "API_COMTRADE = \"http://comtrade.un.org/api/get\""
   ]
  },
  {
   "cell_type": "code",
   "execution_count": 6,
   "metadata": {
    "collapsed": true
   },
   "outputs": [],
   "source": [
    "params = {\n",
    "    \"freq\": \"A\", # frecuencia anual\n",
    "    \"r\": 32, # reporter (reporta los datos): 32 es el código de la Argentina\n",
    "    \"ps\": \"ALL\", # período (any para tomar todos los años)\n",
    "    \"px\": \"S1\", # sistema de clasificación de productos: SITC Rev 1 es la serie más larga\n",
    "    \"fmt\": \"JSON\", # formato devuelto (CSV o JSON)\n",
    "    \"p\": 0, # partner (contraparte comercial del reporter): 0 es el código del Mundo\n",
    "    \"rg\": 2, # 1: importaciones, 2: exportaciones\n",
    "    \"cc\": \"2214,041\", # commodity code: 2214 \"Soya\" / 041 \"Wheat\" / 4216 \"Sunflower\" / 044 \"Corn\"\n",
    "    \"max\": 50000, # cantidad máxima de resultados (50.000 es un máximo absoluto)\n",
    "    \"head\": \"H\", # M: machine readable headers, H: human readable headers\n",
    "}"
   ]
  },
  {
   "cell_type": "code",
   "execution_count": 7,
   "metadata": {
    "collapsed": false
   },
   "outputs": [],
   "source": [
    "# si internet funciona\n",
    "# res = requests.get(API_COMTRADE, params=params)\n",
    "# json_res = res.json()\n",
    "\n",
    "# si internet no funciona\n",
    "with open(\"data/comtrade-cultivos-principales.json\", \"rb\") as f:\n",
    "    json_res = json.load(f)"
   ]
  },
  {
   "cell_type": "code",
   "execution_count": 8,
   "metadata": {
    "collapsed": false
   },
   "outputs": [],
   "source": [
    "df_comtrade = pd.DataFrame(json_res[\"dataset\"])"
   ]
  },
  {
   "cell_type": "code",
   "execution_count": 9,
   "metadata": {
    "collapsed": false
   },
   "outputs": [
    {
     "data": {
      "text/html": [
       "<div>\n",
       "<table border=\"1\" class=\"dataframe\">\n",
       "  <thead>\n",
       "    <tr style=\"text-align: right;\">\n",
       "      <th></th>\n",
       "      <th>AltQuantity</th>\n",
       "      <th>CIFValue</th>\n",
       "      <th>FOBValue</th>\n",
       "      <th>GrossWeight</th>\n",
       "      <th>IsLeaf</th>\n",
       "      <th>NetWeight</th>\n",
       "      <th>TradeQuantity</th>\n",
       "      <th>TradeValue</th>\n",
       "      <th>aggrLevel</th>\n",
       "      <th>cmdCode</th>\n",
       "      <th>...</th>\n",
       "      <th>qtAltCode</th>\n",
       "      <th>qtAltDesc</th>\n",
       "      <th>qtCode</th>\n",
       "      <th>qtDesc</th>\n",
       "      <th>rgCode</th>\n",
       "      <th>rgDesc</th>\n",
       "      <th>rt3ISO</th>\n",
       "      <th>rtCode</th>\n",
       "      <th>rtTitle</th>\n",
       "      <th>yr</th>\n",
       "    </tr>\n",
       "  </thead>\n",
       "  <tbody>\n",
       "    <tr>\n",
       "      <th>0</th>\n",
       "      <td>None</td>\n",
       "      <td>None</td>\n",
       "      <td>None</td>\n",
       "      <td>None</td>\n",
       "      <td>0</td>\n",
       "      <td>2832336128</td>\n",
       "      <td>2832336128</td>\n",
       "      <td>173363088</td>\n",
       "      <td>3</td>\n",
       "      <td>041</td>\n",
       "      <td>...</td>\n",
       "      <td>None</td>\n",
       "      <td></td>\n",
       "      <td>8</td>\n",
       "      <td>Weight in kilograms</td>\n",
       "      <td>2</td>\n",
       "      <td>Export</td>\n",
       "      <td>ARG</td>\n",
       "      <td>32</td>\n",
       "      <td>Argentina</td>\n",
       "      <td>1962</td>\n",
       "    </tr>\n",
       "    <tr>\n",
       "      <th>1</th>\n",
       "      <td>None</td>\n",
       "      <td>None</td>\n",
       "      <td>None</td>\n",
       "      <td>None</td>\n",
       "      <td>0</td>\n",
       "      <td>1830655616</td>\n",
       "      <td>1830655616</td>\n",
       "      <td>116388784</td>\n",
       "      <td>3</td>\n",
       "      <td>041</td>\n",
       "      <td>...</td>\n",
       "      <td>None</td>\n",
       "      <td></td>\n",
       "      <td>8</td>\n",
       "      <td>Weight in kilograms</td>\n",
       "      <td>2</td>\n",
       "      <td>Export</td>\n",
       "      <td>ARG</td>\n",
       "      <td>32</td>\n",
       "      <td>Argentina</td>\n",
       "      <td>1963</td>\n",
       "    </tr>\n",
       "    <tr>\n",
       "      <th>2</th>\n",
       "      <td>None</td>\n",
       "      <td>None</td>\n",
       "      <td>None</td>\n",
       "      <td>None</td>\n",
       "      <td>0</td>\n",
       "      <td>3710008576</td>\n",
       "      <td>3710008576</td>\n",
       "      <td>242256288</td>\n",
       "      <td>3</td>\n",
       "      <td>041</td>\n",
       "      <td>...</td>\n",
       "      <td>None</td>\n",
       "      <td></td>\n",
       "      <td>8</td>\n",
       "      <td>Weight in kilograms</td>\n",
       "      <td>2</td>\n",
       "      <td>Export</td>\n",
       "      <td>ARG</td>\n",
       "      <td>32</td>\n",
       "      <td>Argentina</td>\n",
       "      <td>1964</td>\n",
       "    </tr>\n",
       "  </tbody>\n",
       "</table>\n",
       "<p>3 rows × 35 columns</p>\n",
       "</div>"
      ],
      "text/plain": [
       "  AltQuantity CIFValue FOBValue GrossWeight  IsLeaf   NetWeight  \\\n",
       "0        None     None     None        None       0  2832336128   \n",
       "1        None     None     None        None       0  1830655616   \n",
       "2        None     None     None        None       0  3710008576   \n",
       "\n",
       "   TradeQuantity  TradeValue  aggrLevel cmdCode  ...  qtAltCode qtAltDesc  \\\n",
       "0     2832336128   173363088          3     041  ...       None             \n",
       "1     1830655616   116388784          3     041  ...       None             \n",
       "2     3710008576   242256288          3     041  ...       None             \n",
       "\n",
       "  qtCode               qtDesc rgCode  rgDesc  rt3ISO rtCode    rtTitle    yr  \n",
       "0      8  Weight in kilograms      2  Export     ARG     32  Argentina  1962  \n",
       "1      8  Weight in kilograms      2  Export     ARG     32  Argentina  1963  \n",
       "2      8  Weight in kilograms      2  Export     ARG     32  Argentina  1964  \n",
       "\n",
       "[3 rows x 35 columns]"
      ]
     },
     "execution_count": 9,
     "metadata": {},
     "output_type": "execute_result"
    }
   ],
   "source": [
    "df_comtrade.head(3)"
   ]
  },
  {
   "cell_type": "code",
   "execution_count": 10,
   "metadata": {
    "collapsed": false
   },
   "outputs": [
    {
     "data": {
      "text/html": [
       "<div>\n",
       "<table border=\"1\" class=\"dataframe\">\n",
       "  <thead>\n",
       "    <tr style=\"text-align: right;\">\n",
       "      <th></th>\n",
       "      <th>0</th>\n",
       "      <th>1</th>\n",
       "      <th>2</th>\n",
       "    </tr>\n",
       "  </thead>\n",
       "  <tbody>\n",
       "    <tr>\n",
       "      <th>AltQuantity</th>\n",
       "      <td>None</td>\n",
       "      <td>None</td>\n",
       "      <td>None</td>\n",
       "    </tr>\n",
       "    <tr>\n",
       "      <th>CIFValue</th>\n",
       "      <td>None</td>\n",
       "      <td>None</td>\n",
       "      <td>None</td>\n",
       "    </tr>\n",
       "    <tr>\n",
       "      <th>FOBValue</th>\n",
       "      <td>None</td>\n",
       "      <td>None</td>\n",
       "      <td>None</td>\n",
       "    </tr>\n",
       "    <tr>\n",
       "      <th>GrossWeight</th>\n",
       "      <td>None</td>\n",
       "      <td>None</td>\n",
       "      <td>None</td>\n",
       "    </tr>\n",
       "    <tr>\n",
       "      <th>IsLeaf</th>\n",
       "      <td>0</td>\n",
       "      <td>0</td>\n",
       "      <td>0</td>\n",
       "    </tr>\n",
       "    <tr>\n",
       "      <th>NetWeight</th>\n",
       "      <td>2832336128</td>\n",
       "      <td>1830655616</td>\n",
       "      <td>3710008576</td>\n",
       "    </tr>\n",
       "    <tr>\n",
       "      <th>TradeQuantity</th>\n",
       "      <td>2832336128</td>\n",
       "      <td>1830655616</td>\n",
       "      <td>3710008576</td>\n",
       "    </tr>\n",
       "    <tr>\n",
       "      <th>TradeValue</th>\n",
       "      <td>173363088</td>\n",
       "      <td>116388784</td>\n",
       "      <td>242256288</td>\n",
       "    </tr>\n",
       "    <tr>\n",
       "      <th>aggrLevel</th>\n",
       "      <td>3</td>\n",
       "      <td>3</td>\n",
       "      <td>3</td>\n",
       "    </tr>\n",
       "    <tr>\n",
       "      <th>cmdCode</th>\n",
       "      <td>041</td>\n",
       "      <td>041</td>\n",
       "      <td>041</td>\n",
       "    </tr>\n",
       "    <tr>\n",
       "      <th>cmdDescE</th>\n",
       "      <td>Wheat  including spelt   and meslin, unmilled</td>\n",
       "      <td>Wheat  including spelt   and meslin, unmilled</td>\n",
       "      <td>Wheat  including spelt   and meslin, unmilled</td>\n",
       "    </tr>\n",
       "    <tr>\n",
       "      <th>cstCode</th>\n",
       "      <td></td>\n",
       "      <td></td>\n",
       "      <td></td>\n",
       "    </tr>\n",
       "    <tr>\n",
       "      <th>cstDesc</th>\n",
       "      <td></td>\n",
       "      <td></td>\n",
       "      <td></td>\n",
       "    </tr>\n",
       "    <tr>\n",
       "      <th>estCode</th>\n",
       "      <td>0</td>\n",
       "      <td>0</td>\n",
       "      <td>0</td>\n",
       "    </tr>\n",
       "    <tr>\n",
       "      <th>motCode</th>\n",
       "      <td></td>\n",
       "      <td></td>\n",
       "      <td></td>\n",
       "    </tr>\n",
       "    <tr>\n",
       "      <th>motDesc</th>\n",
       "      <td></td>\n",
       "      <td></td>\n",
       "      <td></td>\n",
       "    </tr>\n",
       "    <tr>\n",
       "      <th>period</th>\n",
       "      <td>1962</td>\n",
       "      <td>1963</td>\n",
       "      <td>1964</td>\n",
       "    </tr>\n",
       "    <tr>\n",
       "      <th>periodDesc</th>\n",
       "      <td>1962</td>\n",
       "      <td>1963</td>\n",
       "      <td>1964</td>\n",
       "    </tr>\n",
       "    <tr>\n",
       "      <th>pfCode</th>\n",
       "      <td>S1</td>\n",
       "      <td>S1</td>\n",
       "      <td>S1</td>\n",
       "    </tr>\n",
       "    <tr>\n",
       "      <th>pt3ISO</th>\n",
       "      <td>WLD</td>\n",
       "      <td>WLD</td>\n",
       "      <td>WLD</td>\n",
       "    </tr>\n",
       "    <tr>\n",
       "      <th>pt3ISO2</th>\n",
       "      <td></td>\n",
       "      <td></td>\n",
       "      <td></td>\n",
       "    </tr>\n",
       "    <tr>\n",
       "      <th>ptCode</th>\n",
       "      <td>0</td>\n",
       "      <td>0</td>\n",
       "      <td>0</td>\n",
       "    </tr>\n",
       "    <tr>\n",
       "      <th>ptCode2</th>\n",
       "      <td>None</td>\n",
       "      <td>None</td>\n",
       "      <td>None</td>\n",
       "    </tr>\n",
       "    <tr>\n",
       "      <th>ptTitle</th>\n",
       "      <td>World</td>\n",
       "      <td>World</td>\n",
       "      <td>World</td>\n",
       "    </tr>\n",
       "    <tr>\n",
       "      <th>ptTitle2</th>\n",
       "      <td></td>\n",
       "      <td></td>\n",
       "      <td></td>\n",
       "    </tr>\n",
       "    <tr>\n",
       "      <th>qtAltCode</th>\n",
       "      <td>None</td>\n",
       "      <td>None</td>\n",
       "      <td>None</td>\n",
       "    </tr>\n",
       "    <tr>\n",
       "      <th>qtAltDesc</th>\n",
       "      <td></td>\n",
       "      <td></td>\n",
       "      <td></td>\n",
       "    </tr>\n",
       "    <tr>\n",
       "      <th>qtCode</th>\n",
       "      <td>8</td>\n",
       "      <td>8</td>\n",
       "      <td>8</td>\n",
       "    </tr>\n",
       "    <tr>\n",
       "      <th>qtDesc</th>\n",
       "      <td>Weight in kilograms</td>\n",
       "      <td>Weight in kilograms</td>\n",
       "      <td>Weight in kilograms</td>\n",
       "    </tr>\n",
       "    <tr>\n",
       "      <th>rgCode</th>\n",
       "      <td>2</td>\n",
       "      <td>2</td>\n",
       "      <td>2</td>\n",
       "    </tr>\n",
       "    <tr>\n",
       "      <th>rgDesc</th>\n",
       "      <td>Export</td>\n",
       "      <td>Export</td>\n",
       "      <td>Export</td>\n",
       "    </tr>\n",
       "    <tr>\n",
       "      <th>rt3ISO</th>\n",
       "      <td>ARG</td>\n",
       "      <td>ARG</td>\n",
       "      <td>ARG</td>\n",
       "    </tr>\n",
       "    <tr>\n",
       "      <th>rtCode</th>\n",
       "      <td>32</td>\n",
       "      <td>32</td>\n",
       "      <td>32</td>\n",
       "    </tr>\n",
       "    <tr>\n",
       "      <th>rtTitle</th>\n",
       "      <td>Argentina</td>\n",
       "      <td>Argentina</td>\n",
       "      <td>Argentina</td>\n",
       "    </tr>\n",
       "    <tr>\n",
       "      <th>yr</th>\n",
       "      <td>1962</td>\n",
       "      <td>1963</td>\n",
       "      <td>1964</td>\n",
       "    </tr>\n",
       "  </tbody>\n",
       "</table>\n",
       "</div>"
      ],
      "text/plain": [
       "                                                           0  \\\n",
       "AltQuantity                                             None   \n",
       "CIFValue                                                None   \n",
       "FOBValue                                                None   \n",
       "GrossWeight                                             None   \n",
       "IsLeaf                                                     0   \n",
       "NetWeight                                         2832336128   \n",
       "TradeQuantity                                     2832336128   \n",
       "TradeValue                                         173363088   \n",
       "aggrLevel                                                  3   \n",
       "cmdCode                                                  041   \n",
       "cmdDescE       Wheat  including spelt   and meslin, unmilled   \n",
       "cstCode                                                        \n",
       "cstDesc                                                        \n",
       "estCode                                                    0   \n",
       "motCode                                                        \n",
       "motDesc                                                        \n",
       "period                                                  1962   \n",
       "periodDesc                                              1962   \n",
       "pfCode                                                    S1   \n",
       "pt3ISO                                                   WLD   \n",
       "pt3ISO2                                                        \n",
       "ptCode                                                     0   \n",
       "ptCode2                                                 None   \n",
       "ptTitle                                                World   \n",
       "ptTitle2                                                       \n",
       "qtAltCode                                               None   \n",
       "qtAltDesc                                                      \n",
       "qtCode                                                     8   \n",
       "qtDesc                                   Weight in kilograms   \n",
       "rgCode                                                     2   \n",
       "rgDesc                                                Export   \n",
       "rt3ISO                                                   ARG   \n",
       "rtCode                                                    32   \n",
       "rtTitle                                            Argentina   \n",
       "yr                                                      1962   \n",
       "\n",
       "                                                           1  \\\n",
       "AltQuantity                                             None   \n",
       "CIFValue                                                None   \n",
       "FOBValue                                                None   \n",
       "GrossWeight                                             None   \n",
       "IsLeaf                                                     0   \n",
       "NetWeight                                         1830655616   \n",
       "TradeQuantity                                     1830655616   \n",
       "TradeValue                                         116388784   \n",
       "aggrLevel                                                  3   \n",
       "cmdCode                                                  041   \n",
       "cmdDescE       Wheat  including spelt   and meslin, unmilled   \n",
       "cstCode                                                        \n",
       "cstDesc                                                        \n",
       "estCode                                                    0   \n",
       "motCode                                                        \n",
       "motDesc                                                        \n",
       "period                                                  1963   \n",
       "periodDesc                                              1963   \n",
       "pfCode                                                    S1   \n",
       "pt3ISO                                                   WLD   \n",
       "pt3ISO2                                                        \n",
       "ptCode                                                     0   \n",
       "ptCode2                                                 None   \n",
       "ptTitle                                                World   \n",
       "ptTitle2                                                       \n",
       "qtAltCode                                               None   \n",
       "qtAltDesc                                                      \n",
       "qtCode                                                     8   \n",
       "qtDesc                                   Weight in kilograms   \n",
       "rgCode                                                     2   \n",
       "rgDesc                                                Export   \n",
       "rt3ISO                                                   ARG   \n",
       "rtCode                                                    32   \n",
       "rtTitle                                            Argentina   \n",
       "yr                                                      1963   \n",
       "\n",
       "                                                           2  \n",
       "AltQuantity                                             None  \n",
       "CIFValue                                                None  \n",
       "FOBValue                                                None  \n",
       "GrossWeight                                             None  \n",
       "IsLeaf                                                     0  \n",
       "NetWeight                                         3710008576  \n",
       "TradeQuantity                                     3710008576  \n",
       "TradeValue                                         242256288  \n",
       "aggrLevel                                                  3  \n",
       "cmdCode                                                  041  \n",
       "cmdDescE       Wheat  including spelt   and meslin, unmilled  \n",
       "cstCode                                                       \n",
       "cstDesc                                                       \n",
       "estCode                                                    0  \n",
       "motCode                                                       \n",
       "motDesc                                                       \n",
       "period                                                  1964  \n",
       "periodDesc                                              1964  \n",
       "pfCode                                                    S1  \n",
       "pt3ISO                                                   WLD  \n",
       "pt3ISO2                                                       \n",
       "ptCode                                                     0  \n",
       "ptCode2                                                 None  \n",
       "ptTitle                                                World  \n",
       "ptTitle2                                                      \n",
       "qtAltCode                                               None  \n",
       "qtAltDesc                                                     \n",
       "qtCode                                                     8  \n",
       "qtDesc                                   Weight in kilograms  \n",
       "rgCode                                                     2  \n",
       "rgDesc                                                Export  \n",
       "rt3ISO                                                   ARG  \n",
       "rtCode                                                    32  \n",
       "rtTitle                                            Argentina  \n",
       "yr                                                      1964  "
      ]
     },
     "execution_count": 10,
     "metadata": {},
     "output_type": "execute_result"
    }
   ],
   "source": [
    "df_comtrade.head(3).transpose()"
   ]
  },
  {
   "cell_type": "code",
   "execution_count": 11,
   "metadata": {
    "collapsed": false
   },
   "outputs": [],
   "source": [
    "columns = [\"rgDesc\", \"rtTitle\", \"ptTitle\", \"yr\",\n",
    "           \"cmdCode\", \"cmdDescE\", \"TradeValue\", \"TradeQuantity\", \"qtDesc\"]"
   ]
  },
  {
   "cell_type": "code",
   "execution_count": 12,
   "metadata": {
    "collapsed": false
   },
   "outputs": [
    {
     "data": {
      "text/html": [
       "<div>\n",
       "<table border=\"1\" class=\"dataframe\">\n",
       "  <thead>\n",
       "    <tr style=\"text-align: right;\">\n",
       "      <th></th>\n",
       "      <th>rgDesc</th>\n",
       "      <th>rtTitle</th>\n",
       "      <th>ptTitle</th>\n",
       "      <th>yr</th>\n",
       "      <th>cmdCode</th>\n",
       "      <th>cmdDescE</th>\n",
       "      <th>TradeValue</th>\n",
       "      <th>TradeQuantity</th>\n",
       "      <th>qtDesc</th>\n",
       "    </tr>\n",
       "  </thead>\n",
       "  <tbody>\n",
       "    <tr>\n",
       "      <th>0</th>\n",
       "      <td>Export</td>\n",
       "      <td>Argentina</td>\n",
       "      <td>World</td>\n",
       "      <td>1962</td>\n",
       "      <td>041</td>\n",
       "      <td>Wheat  including spelt   and meslin, unmilled</td>\n",
       "      <td>173363088</td>\n",
       "      <td>2832336128</td>\n",
       "      <td>Weight in kilograms</td>\n",
       "    </tr>\n",
       "    <tr>\n",
       "      <th>1</th>\n",
       "      <td>Export</td>\n",
       "      <td>Argentina</td>\n",
       "      <td>World</td>\n",
       "      <td>1963</td>\n",
       "      <td>041</td>\n",
       "      <td>Wheat  including spelt   and meslin, unmilled</td>\n",
       "      <td>116388784</td>\n",
       "      <td>1830655616</td>\n",
       "      <td>Weight in kilograms</td>\n",
       "    </tr>\n",
       "    <tr>\n",
       "      <th>2</th>\n",
       "      <td>Export</td>\n",
       "      <td>Argentina</td>\n",
       "      <td>World</td>\n",
       "      <td>1964</td>\n",
       "      <td>041</td>\n",
       "      <td>Wheat  including spelt   and meslin, unmilled</td>\n",
       "      <td>242256288</td>\n",
       "      <td>3710008576</td>\n",
       "      <td>Weight in kilograms</td>\n",
       "    </tr>\n",
       "    <tr>\n",
       "      <th>3</th>\n",
       "      <td>Export</td>\n",
       "      <td>Argentina</td>\n",
       "      <td>World</td>\n",
       "      <td>1965</td>\n",
       "      <td>041</td>\n",
       "      <td>Wheat  including spelt   and meslin, unmilled</td>\n",
       "      <td>372666400</td>\n",
       "      <td>6660583936</td>\n",
       "      <td>Weight in kilograms</td>\n",
       "    </tr>\n",
       "    <tr>\n",
       "      <th>4</th>\n",
       "      <td>Export</td>\n",
       "      <td>Argentina</td>\n",
       "      <td>World</td>\n",
       "      <td>1966</td>\n",
       "      <td>041</td>\n",
       "      <td>Wheat  including spelt   and meslin, unmilled</td>\n",
       "      <td>279624704</td>\n",
       "      <td>5054666240</td>\n",
       "      <td>Weight in kilograms</td>\n",
       "    </tr>\n",
       "  </tbody>\n",
       "</table>\n",
       "</div>"
      ],
      "text/plain": [
       "   rgDesc    rtTitle ptTitle    yr cmdCode  \\\n",
       "0  Export  Argentina   World  1962     041   \n",
       "1  Export  Argentina   World  1963     041   \n",
       "2  Export  Argentina   World  1964     041   \n",
       "3  Export  Argentina   World  1965     041   \n",
       "4  Export  Argentina   World  1966     041   \n",
       "\n",
       "                                        cmdDescE  TradeValue  TradeQuantity  \\\n",
       "0  Wheat  including spelt   and meslin, unmilled   173363088     2832336128   \n",
       "1  Wheat  including spelt   and meslin, unmilled   116388784     1830655616   \n",
       "2  Wheat  including spelt   and meslin, unmilled   242256288     3710008576   \n",
       "3  Wheat  including spelt   and meslin, unmilled   372666400     6660583936   \n",
       "4  Wheat  including spelt   and meslin, unmilled   279624704     5054666240   \n",
       "\n",
       "                qtDesc  \n",
       "0  Weight in kilograms  \n",
       "1  Weight in kilograms  \n",
       "2  Weight in kilograms  \n",
       "3  Weight in kilograms  \n",
       "4  Weight in kilograms  "
      ]
     },
     "execution_count": 12,
     "metadata": {},
     "output_type": "execute_result"
    }
   ],
   "source": [
    "df_comtrade[columns].head(5)"
   ]
  },
  {
   "cell_type": "code",
   "execution_count": 14,
   "metadata": {
    "collapsed": true
   },
   "outputs": [],
   "source": [
    "df_comtrade[\"precio_ton\"] = df_comtrade.TradeValue / df_comtrade.TradeQuantity * 1000"
   ]
  },
  {
   "cell_type": "code",
   "execution_count": 15,
   "metadata": {
    "collapsed": false
   },
   "outputs": [],
   "source": [
    "precios_soja = df_comtrade[df_comtrade.cmdCode == \"2214\"][[\"yr\", \"precio_ton\"]].sort_values(\"yr\").set_index(\"yr\")"
   ]
  },
  {
   "cell_type": "code",
   "execution_count": 16,
   "metadata": {
    "collapsed": false
   },
   "outputs": [
    {
     "data": {
      "text/plain": [
       "<matplotlib.axes._subplots.AxesSubplot at 0x10e082950>"
      ]
     },
     "execution_count": 16,
     "metadata": {},
     "output_type": "execute_result"
    },
    {
     "data": {
      "image/png": "[encoded data removed]",
      "text/plain": [
       "<matplotlib.figure.Figure at 0x10df36510>"
      ]
     },
     "metadata": {},
     "output_type": "display_data"
    }
   ],
   "source": [
    "precios_soja.plot.line()"
   ]
  },
  {
   "cell_type": "code",
   "execution_count": 17,
   "metadata": {
    "collapsed": true
   },
   "outputs": [],
   "source": [
    "precios_trigo = df_comtrade[df_comtrade.cmdCode == \"041\"][[\"yr\", \"precio_ton\"]].sort_values(\"yr\").set_index(\"yr\")"
   ]
  },
  {
   "cell_type": "code",
   "execution_count": 18,
   "metadata": {
    "collapsed": false
   },
   "outputs": [
    {
     "data": {
      "text/plain": [
       "<matplotlib.axes._subplots.AxesSubplot at 0x110abe450>"
      ]
     },
     "execution_count": 18,
     "metadata": {},
     "output_type": "execute_result"
    },
    {
     "data": {
      "image/png": "[encoded data removed]",
      "text/plain": [
       "<matplotlib.figure.Figure at 0x10df18490>"
      ]
     },
     "metadata": {},
     "output_type": "display_data"
    }
   ],
   "source": [
    "precios_trigo.plot.line()"
   ]
  },
  {
   "cell_type": "markdown",
   "metadata": {},
   "source": [
    "## Banco Mundial"
   ]
  },
  {
   "cell_type": "markdown",
   "metadata": {},
   "source": [
    "Ahora queremos sumar datos de precios internacionales de estos 2 cultivos a lo largo del tiempo. Usamos la API del Banco Mundial (https://datahelpdesk.worldbank.org/knowledgebase/topics/125589) para descargar precios internacionales de referencia."
   ]
  },
  {
   "cell_type": "markdown",
   "metadata": {},
   "source": [
    "### Buscamos un catálogo de commodities"
   ]
  },
  {
   "cell_type": "code",
   "execution_count": 19,
   "metadata": {
    "collapsed": true
   },
   "outputs": [],
   "source": [
    "res = requests.get(\"http://api.worldbank.org/sources?format=JSON\")"
   ]
  },
  {
   "cell_type": "code",
   "execution_count": 20,
   "metadata": {
    "collapsed": false
   },
   "outputs": [],
   "source": [
    "df_sources_wb = pd.DataFrame(res.json()[1])"
   ]
  },
  {
   "cell_type": "code",
   "execution_count": 21,
   "metadata": {
    "collapsed": false
   },
   "outputs": [
    {
     "data": {
      "text/html": [
       "<div>\n",
       "<table border=\"1\" class=\"dataframe\">\n",
       "  <thead>\n",
       "    <tr style=\"text-align: right;\">\n",
       "      <th></th>\n",
       "      <th>description</th>\n",
       "      <th>id</th>\n",
       "      <th>name</th>\n",
       "      <th>url</th>\n",
       "    </tr>\n",
       "  </thead>\n",
       "  <tbody>\n",
       "    <tr>\n",
       "      <th>0</th>\n",
       "      <td></td>\n",
       "      <td>11</td>\n",
       "      <td>Africa Development Indicators</td>\n",
       "      <td></td>\n",
       "    </tr>\n",
       "    <tr>\n",
       "      <th>1</th>\n",
       "      <td></td>\n",
       "      <td>36</td>\n",
       "      <td>Statistical Capacity Indicators</td>\n",
       "      <td></td>\n",
       "    </tr>\n",
       "    <tr>\n",
       "      <th>2</th>\n",
       "      <td></td>\n",
       "      <td>31</td>\n",
       "      <td>Country Policy and Institutional Assessment (C...</td>\n",
       "      <td></td>\n",
       "    </tr>\n",
       "  </tbody>\n",
       "</table>\n",
       "</div>"
      ],
      "text/plain": [
       "  description  id                                               name url\n",
       "0              11                      Africa Development Indicators    \n",
       "1              36                    Statistical Capacity Indicators    \n",
       "2              31  Country Policy and Institutional Assessment (C...    "
      ]
     },
     "execution_count": 21,
     "metadata": {},
     "output_type": "execute_result"
    }
   ],
   "source": [
    "df_sources_wb.head(3)"
   ]
  },
  {
   "cell_type": "code",
   "execution_count": 22,
   "metadata": {
    "collapsed": false
   },
   "outputs": [
    {
     "data": {
      "text/html": [
       "<div>\n",
       "<table border=\"1\" class=\"dataframe\">\n",
       "  <thead>\n",
       "    <tr style=\"text-align: right;\">\n",
       "      <th></th>\n",
       "      <th>description</th>\n",
       "      <th>id</th>\n",
       "      <th>name</th>\n",
       "      <th>url</th>\n",
       "    </tr>\n",
       "  </thead>\n",
       "  <tbody>\n",
       "    <tr>\n",
       "      <th>15</th>\n",
       "      <td></td>\n",
       "      <td>21</td>\n",
       "      <td>Global Economic Monitor (GEM) Commodities</td>\n",
       "      <td></td>\n",
       "    </tr>\n",
       "  </tbody>\n",
       "</table>\n",
       "</div>"
      ],
      "text/plain": [
       "   description  id                                       name url\n",
       "15              21  Global Economic Monitor (GEM) Commodities    "
      ]
     },
     "execution_count": 22,
     "metadata": {},
     "output_type": "execute_result"
    }
   ],
   "source": [
    "df_sources_wb[df_sources_wb.name.str.contains(\"commodities\", case=False)]"
   ]
  },
  {
   "cell_type": "markdown",
   "metadata": {},
   "source": [
    "### Buscamos indicadores de cultivos"
   ]
  },
  {
   "cell_type": "code",
   "execution_count": 23,
   "metadata": {
    "collapsed": true
   },
   "outputs": [],
   "source": [
    "res = requests.get(\"http://api.worldbank.org/indicators?source=21&format=json&per_page=200\")"
   ]
  },
  {
   "cell_type": "code",
   "execution_count": 24,
   "metadata": {
    "collapsed": true
   },
   "outputs": [],
   "source": [
    "df_indics_wb = pd.DataFrame(res.json()[1])"
   ]
  },
  {
   "cell_type": "code",
   "execution_count": 25,
   "metadata": {
    "collapsed": false
   },
   "outputs": [
    {
     "data": {
      "text/html": [
       "<div>\n",
       "<table border=\"1\" class=\"dataframe\">\n",
       "  <thead>\n",
       "    <tr style=\"text-align: right;\">\n",
       "      <th></th>\n",
       "      <th>id</th>\n",
       "      <th>name</th>\n",
       "      <th>source</th>\n",
       "      <th>sourceNote</th>\n",
       "      <th>sourceOrganization</th>\n",
       "      <th>topics</th>\n",
       "    </tr>\n",
       "  </thead>\n",
       "  <tbody>\n",
       "    <tr>\n",
       "      <th>0</th>\n",
       "      <td>ALUMINUM</td>\n",
       "      <td>Aluminum, $/mt, current$</td>\n",
       "      <td>{u'id': u'21', u'value': u'Global Economic Mon...</td>\n",
       "      <td>Aluminum (LME) London Metal Exchange, unalloye...</td>\n",
       "      <td>Platts Metals Week, Thomson Reuters Datastream...</td>\n",
       "      <td>[]</td>\n",
       "    </tr>\n",
       "    <tr>\n",
       "      <th>1</th>\n",
       "      <td>BANANA_EU</td>\n",
       "      <td>Bananas, EU, $/mt, current$</td>\n",
       "      <td>{u'id': u'21', u'value': u'Global Economic Mon...</td>\n",
       "      <td>Bananas (Central &amp; South America), major brand...</td>\n",
       "      <td>Sopisco News; Union of Banana-Exporting Countr...</td>\n",
       "      <td>[]</td>\n",
       "    </tr>\n",
       "    <tr>\n",
       "      <th>2</th>\n",
       "      <td>BANANA_US</td>\n",
       "      <td>Bananas, US, $/mt, current$</td>\n",
       "      <td>{u'id': u'21', u'value': u'Global Economic Mon...</td>\n",
       "      <td>Bananas (Central &amp; South America), major brand...</td>\n",
       "      <td>Sopisco News; Union of Banana-Exporting Countr...</td>\n",
       "      <td>[]</td>\n",
       "    </tr>\n",
       "  </tbody>\n",
       "</table>\n",
       "</div>"
      ],
      "text/plain": [
       "          id                         name  \\\n",
       "0   ALUMINUM     Aluminum, $/mt, current$   \n",
       "1  BANANA_EU  Bananas, EU, $/mt, current$   \n",
       "2  BANANA_US  Bananas, US, $/mt, current$   \n",
       "\n",
       "                                              source  \\\n",
       "0  {u'id': u'21', u'value': u'Global Economic Mon...   \n",
       "1  {u'id': u'21', u'value': u'Global Economic Mon...   \n",
       "2  {u'id': u'21', u'value': u'Global Economic Mon...   \n",
       "\n",
       "                                          sourceNote  \\\n",
       "0  Aluminum (LME) London Metal Exchange, unalloye...   \n",
       "1  Bananas (Central & South America), major brand...   \n",
       "2  Bananas (Central & South America), major brand...   \n",
       "\n",
       "                                  sourceOrganization topics  \n",
       "0  Platts Metals Week, Thomson Reuters Datastream...     []  \n",
       "1  Sopisco News; Union of Banana-Exporting Countr...     []  \n",
       "2  Sopisco News; Union of Banana-Exporting Countr...     []  "
      ]
     },
     "execution_count": 25,
     "metadata": {},
     "output_type": "execute_result"
    }
   ],
   "source": [
    "df_indics_wb.head(3)"
   ]
  },
  {
   "cell_type": "code",
   "execution_count": 26,
   "metadata": {
    "collapsed": false
   },
   "outputs": [
    {
     "data": {
      "text/html": [
       "<div>\n",
       "<table border=\"1\" class=\"dataframe\">\n",
       "  <thead>\n",
       "    <tr style=\"text-align: right;\">\n",
       "      <th></th>\n",
       "      <th>id</th>\n",
       "      <th>name</th>\n",
       "      <th>source</th>\n",
       "      <th>sourceNote</th>\n",
       "      <th>sourceOrganization</th>\n",
       "      <th>topics</th>\n",
       "    </tr>\n",
       "  </thead>\n",
       "  <tbody>\n",
       "    <tr>\n",
       "      <th>110</th>\n",
       "      <td>KSOYBEAN_MEAL</td>\n",
       "      <td>Soybean meal, $/mt, constant 2000$</td>\n",
       "      <td>{u'id': u'21', u'value': u'Global Economic Mon...</td>\n",
       "      <td></td>\n",
       "      <td>World Bank.</td>\n",
       "      <td>[]</td>\n",
       "    </tr>\n",
       "    <tr>\n",
       "      <th>111</th>\n",
       "      <td>KSOYBEAN_OIL</td>\n",
       "      <td>Soybean oil, $/mt, constant 2000$</td>\n",
       "      <td>{u'id': u'21', u'value': u'Global Economic Mon...</td>\n",
       "      <td></td>\n",
       "      <td>World Bank.</td>\n",
       "      <td>[]</td>\n",
       "    </tr>\n",
       "    <tr>\n",
       "      <th>112</th>\n",
       "      <td>KSOYBEANS</td>\n",
       "      <td>Soybeans, $/mt, constant 2000$</td>\n",
       "      <td>{u'id': u'21', u'value': u'Global Economic Mon...</td>\n",
       "      <td></td>\n",
       "      <td>World Bank.</td>\n",
       "      <td>[]</td>\n",
       "    </tr>\n",
       "    <tr>\n",
       "      <th>160</th>\n",
       "      <td>SOYBEAN_MEAL</td>\n",
       "      <td>Soybean meal, $/mt, current$</td>\n",
       "      <td>{u'id': u'21', u'value': u'Global Economic Mon...</td>\n",
       "      <td>Soybean meal (any origin), Argentine 45/46% ex...</td>\n",
       "      <td>ISTA Mielke GmbH, Oil World; US Department of ...</td>\n",
       "      <td>[]</td>\n",
       "    </tr>\n",
       "    <tr>\n",
       "      <th>161</th>\n",
       "      <td>SOYBEAN_OIL</td>\n",
       "      <td>Soybean oil, $/mt, current$</td>\n",
       "      <td>{u'id': u'21', u'value': u'Global Economic Mon...</td>\n",
       "      <td>Soybean oil (Any origin), crude, f.o.b. ex-mil...</td>\n",
       "      <td>ISTA Mielke GmbH, Oil World; US Department of ...</td>\n",
       "      <td>[]</td>\n",
       "    </tr>\n",
       "    <tr>\n",
       "      <th>162</th>\n",
       "      <td>SOYBEANS</td>\n",
       "      <td>Soybeans, $/mt, current$</td>\n",
       "      <td>{u'id': u'21', u'value': u'Global Economic Mon...</td>\n",
       "      <td>Soybeans (US), c.i.f. Rotterdam</td>\n",
       "      <td>ISTA Mielke GmbH, Oil World; US Department of ...</td>\n",
       "      <td>[]</td>\n",
       "    </tr>\n",
       "  </tbody>\n",
       "</table>\n",
       "</div>"
      ],
      "text/plain": [
       "                id                                name  \\\n",
       "110  KSOYBEAN_MEAL  Soybean meal, $/mt, constant 2000$   \n",
       "111   KSOYBEAN_OIL   Soybean oil, $/mt, constant 2000$   \n",
       "112      KSOYBEANS      Soybeans, $/mt, constant 2000$   \n",
       "160   SOYBEAN_MEAL        Soybean meal, $/mt, current$   \n",
       "161    SOYBEAN_OIL         Soybean oil, $/mt, current$   \n",
       "162       SOYBEANS            Soybeans, $/mt, current$   \n",
       "\n",
       "                                                source  \\\n",
       "110  {u'id': u'21', u'value': u'Global Economic Mon...   \n",
       "111  {u'id': u'21', u'value': u'Global Economic Mon...   \n",
       "112  {u'id': u'21', u'value': u'Global Economic Mon...   \n",
       "160  {u'id': u'21', u'value': u'Global Economic Mon...   \n",
       "161  {u'id': u'21', u'value': u'Global Economic Mon...   \n",
       "162  {u'id': u'21', u'value': u'Global Economic Mon...   \n",
       "\n",
       "                                            sourceNote  \\\n",
       "110                                                      \n",
       "111                                                      \n",
       "112                                                      \n",
       "160  Soybean meal (any origin), Argentine 45/46% ex...   \n",
       "161  Soybean oil (Any origin), crude, f.o.b. ex-mil...   \n",
       "162                    Soybeans (US), c.i.f. Rotterdam   \n",
       "\n",
       "                                    sourceOrganization topics  \n",
       "110                                        World Bank.     []  \n",
       "111                                        World Bank.     []  \n",
       "112                                        World Bank.     []  \n",
       "160  ISTA Mielke GmbH, Oil World; US Department of ...     []  \n",
       "161  ISTA Mielke GmbH, Oil World; US Department of ...     []  \n",
       "162  ISTA Mielke GmbH, Oil World; US Department of ...     []  "
      ]
     },
     "execution_count": 26,
     "metadata": {},
     "output_type": "execute_result"
    }
   ],
   "source": [
    "df_indics_wb[df_indics_wb.name.str.contains(\"soybean\", case=False)]"
   ]
  },
  {
   "cell_type": "code",
   "execution_count": 27,
   "metadata": {
    "collapsed": false
   },
   "outputs": [
    {
     "data": {
      "text/html": [
       "<div>\n",
       "<table border=\"1\" class=\"dataframe\">\n",
       "  <thead>\n",
       "    <tr style=\"text-align: right;\">\n",
       "      <th></th>\n",
       "      <th>id</th>\n",
       "      <th>name</th>\n",
       "      <th>source</th>\n",
       "      <th>sourceNote</th>\n",
       "      <th>sourceOrganization</th>\n",
       "      <th>topics</th>\n",
       "    </tr>\n",
       "  </thead>\n",
       "  <tbody>\n",
       "    <tr>\n",
       "      <th>128</th>\n",
       "      <td>KWHEAT_CANADI</td>\n",
       "      <td>Wheat, Canada, $/mtv, constant 2000$</td>\n",
       "      <td>{u'id': u'21', u'value': u'Global Economic Mon...</td>\n",
       "      <td></td>\n",
       "      <td>World Bank.</td>\n",
       "      <td>[]</td>\n",
       "    </tr>\n",
       "    <tr>\n",
       "      <th>129</th>\n",
       "      <td>KWHEAT_US_HRW</td>\n",
       "      <td>Wheat, US, HRW, $/mt, constant 2000$</td>\n",
       "      <td>{u'id': u'21', u'value': u'Global Economic Mon...</td>\n",
       "      <td></td>\n",
       "      <td>World Bank.</td>\n",
       "      <td>[]</td>\n",
       "    </tr>\n",
       "    <tr>\n",
       "      <th>130</th>\n",
       "      <td>KWHEAT_US_SRW</td>\n",
       "      <td>Wheat, US, SRW, $/mt, constant 2000$</td>\n",
       "      <td>{u'id': u'21', u'value': u'Global Economic Mon...</td>\n",
       "      <td></td>\n",
       "      <td>World Bank.</td>\n",
       "      <td>[]</td>\n",
       "    </tr>\n",
       "    <tr>\n",
       "      <th>178</th>\n",
       "      <td>WHEAT_CANADI</td>\n",
       "      <td>Wheat, Canada, $/mt, current$</td>\n",
       "      <td>{u'id': u'21', u'value': u'Global Economic Mon...</td>\n",
       "      <td>Wheat (Canada), no. 1, Western Red Spring (CWR...</td>\n",
       "      <td>Canadian Grain Commission; Thomson Reuters Dat...</td>\n",
       "      <td>[]</td>\n",
       "    </tr>\n",
       "    <tr>\n",
       "      <th>179</th>\n",
       "      <td>WHEAT_US_HRW</td>\n",
       "      <td>Wheat, US, HRW, $/mt, current$</td>\n",
       "      <td>{u'id': u'21', u'value': u'Global Economic Mon...</td>\n",
       "      <td>Wheat (US), no. 1, hard red winter, ordinary p...</td>\n",
       "      <td>Bloomberg; US Department of Agriculture; World...</td>\n",
       "      <td>[]</td>\n",
       "    </tr>\n",
       "    <tr>\n",
       "      <th>180</th>\n",
       "      <td>WHEAT_US_SRW</td>\n",
       "      <td>Wheat, US, SRW, $/mt, current$</td>\n",
       "      <td>{u'id': u'21', u'value': u'Global Economic Mon...</td>\n",
       "      <td>Wheat (US), no. 2, soft red winter, export pri...</td>\n",
       "      <td>US Department of Agriculture; World Bank.</td>\n",
       "      <td>[]</td>\n",
       "    </tr>\n",
       "  </tbody>\n",
       "</table>\n",
       "</div>"
      ],
      "text/plain": [
       "                id                                  name  \\\n",
       "128  KWHEAT_CANADI  Wheat, Canada, $/mtv, constant 2000$   \n",
       "129  KWHEAT_US_HRW  Wheat, US, HRW, $/mt, constant 2000$   \n",
       "130  KWHEAT_US_SRW  Wheat, US, SRW, $/mt, constant 2000$   \n",
       "178   WHEAT_CANADI         Wheat, Canada, $/mt, current$   \n",
       "179   WHEAT_US_HRW        Wheat, US, HRW, $/mt, current$   \n",
       "180   WHEAT_US_SRW        Wheat, US, SRW, $/mt, current$   \n",
       "\n",
       "                                                source  \\\n",
       "128  {u'id': u'21', u'value': u'Global Economic Mon...   \n",
       "129  {u'id': u'21', u'value': u'Global Economic Mon...   \n",
       "130  {u'id': u'21', u'value': u'Global Economic Mon...   \n",
       "178  {u'id': u'21', u'value': u'Global Economic Mon...   \n",
       "179  {u'id': u'21', u'value': u'Global Economic Mon...   \n",
       "180  {u'id': u'21', u'value': u'Global Economic Mon...   \n",
       "\n",
       "                                            sourceNote  \\\n",
       "128                                                      \n",
       "129                                                      \n",
       "130                                                      \n",
       "178  Wheat (Canada), no. 1, Western Red Spring (CWR...   \n",
       "179  Wheat (US), no. 1, hard red winter, ordinary p...   \n",
       "180  Wheat (US), no. 2, soft red winter, export pri...   \n",
       "\n",
       "                                    sourceOrganization topics  \n",
       "128                                        World Bank.     []  \n",
       "129                                        World Bank.     []  \n",
       "130                                        World Bank.     []  \n",
       "178  Canadian Grain Commission; Thomson Reuters Dat...     []  \n",
       "179  Bloomberg; US Department of Agriculture; World...     []  \n",
       "180          US Department of Agriculture; World Bank.     []  "
      ]
     },
     "execution_count": 27,
     "metadata": {},
     "output_type": "execute_result"
    }
   ],
   "source": [
    "df_indics_wb[df_indics_wb.name.str.contains(\"wheat\", case=False)]"
   ]
  },
  {
   "cell_type": "markdown",
   "metadata": {},
   "source": [
    "### Buscamos datos de cada indicador"
   ]
  },
  {
   "cell_type": "markdown",
   "metadata": {
    "collapsed": true
   },
   "source": [
    "Los indicadores del WB que vamos a utilizar: \"WHEAT_US_SRW\" y \"SOYBEANS\"."
   ]
  },
  {
   "cell_type": "markdown",
   "metadata": {},
   "source": [
    "#### Soja"
   ]
  },
  {
   "cell_type": "code",
   "execution_count": 44,
   "metadata": {
    "collapsed": true
   },
   "outputs": [],
   "source": [
    "API_WB_SOY = \"http://api.worldbank.org/v2/es/countries/all/indicators/{}\".format(\"SOYBEANS\")\n",
    "params_soy = {\n",
    "    \"format\": \"json\",\n",
    "    \"per_page\": 300,\n",
    "    \"source\": 21\n",
    "}"
   ]
  },
  {
   "cell_type": "code",
   "execution_count": 45,
   "metadata": {
    "collapsed": false
   },
   "outputs": [],
   "source": [
    "# si internet funciona\n",
    "res = requests.get(API_WB_SOY, params=params_soy)\n",
    "json_res = res.json()"
   ]
  },
  {
   "cell_type": "code",
   "execution_count": 46,
   "metadata": {
    "collapsed": false
   },
   "outputs": [],
   "source": [
    "df_wb_soy = pd.DataFrame(json_res[1])"
   ]
  },
  {
   "cell_type": "code",
   "execution_count": 47,
   "metadata": {
    "collapsed": false
   },
   "outputs": [
    {
     "data": {
      "text/html": [
       "<div>\n",
       "<table border=\"1\" class=\"dataframe\">\n",
       "  <thead>\n",
       "    <tr style=\"text-align: right;\">\n",
       "      <th></th>\n",
       "      <th>country</th>\n",
       "      <th>countryiso3code</th>\n",
       "      <th>date</th>\n",
       "      <th>decimal</th>\n",
       "      <th>indicator</th>\n",
       "      <th>obs_status</th>\n",
       "      <th>unit</th>\n",
       "      <th>value</th>\n",
       "    </tr>\n",
       "  </thead>\n",
       "  <tbody>\n",
       "    <tr>\n",
       "      <th>0</th>\n",
       "      <td>{u'id': u'1W', u'value': u'World'}</td>\n",
       "      <td></td>\n",
       "      <td>2015</td>\n",
       "      <td>0</td>\n",
       "      <td>{u'id': u'SOYBEANS', u'value': u'Soybeans, $/m...</td>\n",
       "      <td></td>\n",
       "      <td></td>\n",
       "      <td>390.416667</td>\n",
       "    </tr>\n",
       "    <tr>\n",
       "      <th>1</th>\n",
       "      <td>{u'id': u'1W', u'value': u'World'}</td>\n",
       "      <td></td>\n",
       "      <td>2014</td>\n",
       "      <td>0</td>\n",
       "      <td>{u'id': u'SOYBEANS', u'value': u'Soybeans, $/m...</td>\n",
       "      <td></td>\n",
       "      <td></td>\n",
       "      <td>491.770833</td>\n",
       "    </tr>\n",
       "    <tr>\n",
       "      <th>2</th>\n",
       "      <td>{u'id': u'1W', u'value': u'World'}</td>\n",
       "      <td></td>\n",
       "      <td>2013</td>\n",
       "      <td>0</td>\n",
       "      <td>{u'id': u'SOYBEANS', u'value': u'Soybeans, $/m...</td>\n",
       "      <td></td>\n",
       "      <td></td>\n",
       "      <td>538.416667</td>\n",
       "    </tr>\n",
       "    <tr>\n",
       "      <th>3</th>\n",
       "      <td>{u'id': u'1W', u'value': u'World'}</td>\n",
       "      <td></td>\n",
       "      <td>2012</td>\n",
       "      <td>0</td>\n",
       "      <td>{u'id': u'SOYBEANS', u'value': u'Soybeans, $/m...</td>\n",
       "      <td></td>\n",
       "      <td></td>\n",
       "      <td>591.416667</td>\n",
       "    </tr>\n",
       "    <tr>\n",
       "      <th>4</th>\n",
       "      <td>{u'id': u'1W', u'value': u'World'}</td>\n",
       "      <td></td>\n",
       "      <td>2011</td>\n",
       "      <td>0</td>\n",
       "      <td>{u'id': u'SOYBEANS', u'value': u'Soybeans, $/m...</td>\n",
       "      <td></td>\n",
       "      <td></td>\n",
       "      <td>540.666667</td>\n",
       "    </tr>\n",
       "  </tbody>\n",
       "</table>\n",
       "</div>"
      ],
      "text/plain": [
       "                              country countryiso3code  date  decimal  \\\n",
       "0  {u'id': u'1W', u'value': u'World'}                  2015        0   \n",
       "1  {u'id': u'1W', u'value': u'World'}                  2014        0   \n",
       "2  {u'id': u'1W', u'value': u'World'}                  2013        0   \n",
       "3  {u'id': u'1W', u'value': u'World'}                  2012        0   \n",
       "4  {u'id': u'1W', u'value': u'World'}                  2011        0   \n",
       "\n",
       "                                           indicator obs_status unit  \\\n",
       "0  {u'id': u'SOYBEANS', u'value': u'Soybeans, $/m...                   \n",
       "1  {u'id': u'SOYBEANS', u'value': u'Soybeans, $/m...                   \n",
       "2  {u'id': u'SOYBEANS', u'value': u'Soybeans, $/m...                   \n",
       "3  {u'id': u'SOYBEANS', u'value': u'Soybeans, $/m...                   \n",
       "4  {u'id': u'SOYBEANS', u'value': u'Soybeans, $/m...                   \n",
       "\n",
       "        value  \n",
       "0  390.416667  \n",
       "1  491.770833  \n",
       "2  538.416667  \n",
       "3  591.416667  \n",
       "4  540.666667  "
      ]
     },
     "execution_count": 47,
     "metadata": {},
     "output_type": "execute_result"
    }
   ],
   "source": [
    "df_wb_soy.head(5)"
   ]
  },
  {
   "cell_type": "code",
   "execution_count": 48,
   "metadata": {
    "collapsed": false
   },
   "outputs": [],
   "source": [
    "precios_soja_wb = df_wb_soy[[\"date\", \"value\"]].sort_values(\"date\").set_index(\"date\")"
   ]
  },
  {
   "cell_type": "code",
   "execution_count": 49,
   "metadata": {
    "collapsed": false
   },
   "outputs": [
    {
     "data": {
      "text/plain": [
       "<matplotlib.axes._subplots.AxesSubplot at 0x113773190>"
      ]
     },
     "execution_count": 49,
     "metadata": {},
     "output_type": "execute_result"
    },
    {
     "data": {
      "image/png": "[encoded data removed]",
      "text/plain": [
       "<matplotlib.figure.Figure at 0x110af5ed0>"
      ]
     },
     "metadata": {},
     "output_type": "display_data"
    }
   ],
   "source": [
    "precios_soja_wb.plot.line()"
   ]
  },
  {
   "cell_type": "code",
   "execution_count": 50,
   "metadata": {
    "collapsed": false
   },
   "outputs": [],
   "source": [
    "precios_soja_wb.index = map(int, precios_soja_wb.index)"
   ]
  },
  {
   "cell_type": "code",
   "execution_count": 51,
   "metadata": {
    "collapsed": false
   },
   "outputs": [
    {
     "data": {
      "text/plain": [
       "<matplotlib.axes._subplots.AxesSubplot at 0x113913ad0>"
      ]
     },
     "execution_count": 51,
     "metadata": {},
     "output_type": "execute_result"
    },
    {
     "data": {
      "image/png": "[encoded data removed]",
      "text/plain": [
       "<matplotlib.figure.Figure at 0x113988550>"
      ]
     },
     "metadata": {},
     "output_type": "display_data"
    }
   ],
   "source": [
    "precios_soja_wb.merge(precios_soja, right_index=True, left_index=True).plot.line()"
   ]
  },
  {
   "cell_type": "markdown",
   "metadata": {},
   "source": [
    "#### Trigo"
   ]
  },
  {
   "cell_type": "code",
   "execution_count": 52,
   "metadata": {
    "collapsed": true
   },
   "outputs": [],
   "source": [
    "API_WB_WHEAT = \"http://api.worldbank.org/v2/es/countries/all/indicators/{}\".format(\"WHEAT_US_SRW\")\n",
    "params_wheat = {\n",
    "    \"format\": \"json\",\n",
    "    \"per_page\": 300,\n",
    "    \"source\": 21\n",
    "}\n",
    "res = requests.get(API_WB_WHEAT, params=params_wheat)\n",
    "json_res = res.json()\n",
    "df_wb_wheat = pd.DataFrame(json_res[1])"
   ]
  },
  {
   "cell_type": "code",
   "execution_count": 53,
   "metadata": {
    "collapsed": true
   },
   "outputs": [],
   "source": [
    "precios_trigo_wb = df_wb_wheat[[\"date\", \"value\"]].sort_values(\"date\").set_index(\"date\")"
   ]
  },
  {
   "cell_type": "code",
   "execution_count": 54,
   "metadata": {
    "collapsed": false
   },
   "outputs": [
    {
     "data": {
      "text/plain": [
       "<matplotlib.axes._subplots.AxesSubplot at 0x1139cdc90>"
      ]
     },
     "execution_count": 54,
     "metadata": {},
     "output_type": "execute_result"
    },
    {
     "data": {
      "image/png": "[encoded data removed]",
      "text/plain": [
       "<matplotlib.figure.Figure at 0x1139ed1d0>"
      ]
     },
     "metadata": {},
     "output_type": "display_data"
    }
   ],
   "source": [
    "precios_trigo_wb.plot.line()"
   ]
  },
  {
   "cell_type": "code",
   "execution_count": 55,
   "metadata": {
    "collapsed": true
   },
   "outputs": [],
   "source": [
    "precios_trigo_wb.index = map(int, precios_trigo_wb.index)"
   ]
  },
  {
   "cell_type": "code",
   "execution_count": 56,
   "metadata": {
    "collapsed": false
   },
   "outputs": [
    {
     "data": {
      "text/plain": [
       "<matplotlib.axes._subplots.AxesSubplot at 0x113c8fc50>"
      ]
     },
     "execution_count": 56,
     "metadata": {},
     "output_type": "execute_result"
    },
    {
     "data": {
      "image/png": "[encoded data removed]",
      "text/plain": [
       "<matplotlib.figure.Figure at 0x113efbad0>"
      ]
     },
     "metadata": {},
     "output_type": "display_data"
    }
   ],
   "source": [
    "precios_trigo_wb.merge(precios_trigo, right_index=True, left_index=True).plot.line()"
   ]
  },
  {
   "cell_type": "markdown",
   "metadata": {
    "collapsed": true
   },
   "source": [
    "## Conclusiones"
   ]
  },
  {
   "cell_type": "markdown",
   "metadata": {},
   "source": [
    "El precio calculado con datos de COMTRADE para el caso de un país exportador en particular, puede diferir bastante (en algunos años) del precio internacional, así que debe usarse con cuidado. Por este motivo el taller se desarrolló con datos de 1980 en adelante (el precio anterior de la soja calculado con COMTRADE no parece confiable). \n",
    "\n",
    "Dependiendo de para qué se necesite el dato (y de la disponibilidad de otras fuentes), puede ser mejor usar fuentes alternativas."
   ]
  },
  {
   "cell_type": "code",
   "execution_count": null,
   "metadata": {
    "collapsed": true
   },
   "outputs": [],
   "source": []
  }
 ],
 "metadata": {
  "kernelspec": {
   "display_name": "Python 2",
   "language": "python",
   "name": "python2"
  },
  "language_info": {
   "codemirror_mode": {
    "name": "ipython",
    "version": 2
   },
   "file_extension": ".py",
   "mimetype": "text/x-python",
   "name": "python",
   "nbconvert_exporter": "python",
   "pygments_lexer": "ipython2",
   "version": "2.7.12"
  }
 },
 "nbformat": 4,
 "nbformat_minor": 1
}
