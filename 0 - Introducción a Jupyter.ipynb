{
 "cells": [
  {
   "cell_type": "markdown",
   "metadata": {},
   "source": [
    "# 0 - Introducción a Jupyter"
   ]
  },
  {
   "cell_type": "markdown",
   "metadata": {},
   "source": [
    "## 0.1 - Corriendo codigo de Python\n",
    "En su versión mas sencilla, cada una de las celdas se puede pensar como un snippet de codigo que se puede ejecutar independientemente de las demas.\n",
    "Para ejecutar la siguiente celda, selccionarla y apretar el boton <i class=\"fa-step-forward fa\"></i> ubicado en la barra superior, o equivalentemente, presionar <span style=\"border: solid 1px #aaa; padding: 2px; border-radius: 4px;\">Shift</span> + <span style=\"border: solid 1px #aaa; padding: 2px; border-radius: 4px;\">Enter</span>"
   ]
  },
  {
   "cell_type": "code",
   "execution_count": 1,
   "metadata": {
    "collapsed": false,
    "scrolled": false
   },
   "outputs": [
    {
     "name": "stdout",
     "output_type": "stream",
     "text": [
      "Hola notebook!\n"
     ]
    }
   ],
   "source": [
    "print 'Hola notebook!'"
   ]
  },
  {
   "cell_type": "markdown",
   "metadata": {},
   "source": [
    "Pueden ver una lista completa de todos los shortcuts disponibles en el menu <span style=\"border: solid 1px #aaa; padding: 2px; border-radius: 4px;\">Help</span> <span style=\"border: solid 1px #aaa; padding: 2px; border-radius: 4px;\">Keyboard Shortcuts</span> o con el shortcut <span style=\"border: solid 1px #aaa; padding: 2px; border-radius: 4px;\">H</span>\n",
    "<br>\n",
    "Shortcuts importantes:\n",
    "- Click para selccionar una celda\n",
    "- Teniendo seleccionada una celda, <span style=\"border: solid 1px #aaa; padding: 2px; border-radius: 4px;\">Enter</span> para pasar a modo de edición y <span style=\"border: solid 1px #aaa; padding: 2px; border-radius: 4px;\">Esc</span> para pasar a modo ejecución. Ambos modos pueden identificarse a simplevista por el color de su borde: verde índica modo de edición y azul modo de ejecución.\n",
    "- <span style=\"border: solid 1px #aaa; padding: 2px; border-radius: 4px;\">Shift</span> + <span style=\"border: solid 1px #aaa; padding: 2px; border-radius: 4px;\">Enter</span> para ejecutar una celda y seleccionar la celda siguiente"
   ]
  },
  {
   "cell_type": "markdown",
   "metadata": {},
   "source": [
    "Cada celda es independiente de las demás, pero comparten el mismo contexto. Definiciones de variables, funciones y clases, e importaciones de modulos dentro de una celda permite que las siguientes celdas tengan acceso a éstas. "
   ]
  },
  {
   "cell_type": "code",
   "execution_count": 2,
   "metadata": {
    "collapsed": true
   },
   "outputs": [],
   "source": [
    "import getpass\n",
    "# defino variable en una celda\n",
    "user = getpass.getuser()"
   ]
  },
  {
   "cell_type": "code",
   "execution_count": 3,
   "metadata": {
    "collapsed": false,
    "scrolled": true
   },
   "outputs": [
    {
     "name": "stdout",
     "output_type": "stream",
     "text": [
      "Hola ignacioheredia!\n"
     ]
    }
   ],
   "source": [
    "# accedo a la variable definida en la celda anterior\n",
    "print \"Hola %s!\" % user"
   ]
  },
  {
   "cell_type": "markdown",
   "metadata": {},
   "source": [
    "Una diferencia notable con un script .py es que no estamos obligados a ejecutar celdas en un orden preestablecido, aunque para evitar confusiones, es recomendable ordenar un notebook segun el orden de lectura estandar."
   ]
  },
  {
   "cell_type": "code",
   "execution_count": 4,
   "metadata": {
    "collapsed": false
   },
   "outputs": [
    {
     "ename": "NameError",
     "evalue": "name 'variable_que_defino_despues' is not defined",
     "output_type": "error",
     "traceback": [
      "\u001b[0;31m---------------------------------------------------------------------------\u001b[0m",
      "\u001b[0;31mNameError\u001b[0m                                 Traceback (most recent call last)",
      "\u001b[0;32m<ipython-input-4-87212c46c5df>\u001b[0m in \u001b[0;36m<module>\u001b[0;34m()\u001b[0m\n\u001b[0;32m----> 1\u001b[0;31m \u001b[0;32mprint\u001b[0m \u001b[0mvariable_que_defino_despues\u001b[0m\u001b[0;34m\u001b[0m\u001b[0m\n\u001b[0m",
      "\u001b[0;31mNameError\u001b[0m: name 'variable_que_defino_despues' is not defined"
     ]
    }
   ],
   "source": [
    "print variable_que_defino_despues"
   ]
  },
  {
   "cell_type": "code",
   "execution_count": 6,
   "metadata": {
    "collapsed": true
   },
   "outputs": [],
   "source": [
    "variable_que_defino_despues = 'oh la la'"
   ]
  },
  {
   "cell_type": "markdown",
   "metadata": {},
   "source": [
    "## 0.2 - Más que solo Python\n",
    "El contenido de las celdas no está limitado a solo código de Python. Una alternativa posible es **Markdown**, que es muy útil para explicar las ideas detras de cada snippet de código y para guiar al lector en la ejecución del notebook (como venimos haciendo hasta ahora).\n",
    "\n",
    "Y extendiendolo aún mas, es posible insertar código html para insertar imagenes, audios, videos y todas las alternativas que esto provee. Esto es especialmente útil para visualizar información y generar gráficos con datos generados por los snippets de código del notebook.\n",
    "\n",
    "<img src=\"./assets/pyramid_chart.png\">"
   ]
  },
  {
   "cell_type": "markdown",
   "metadata": {},
   "source": [
    "Teniendo una celda selccionada en modo de ejecución (borde azul), puede declararse su modo de interpretación apretando:\n",
    "- <span style=\"border: solid 1px #aaa; padding: 2px; border-radius: 4px;\">Y</span> para interpretar la celda en modo código\n",
    "- <span style=\"border: solid 1px #aaa; padding: 2px; border-radius: 4px; display: inline-block; margin: 5px 0;\">M</span> para modo markdown\n",
    "- <span style=\"border: solid 1px #aaa; padding: 2px; border-radius: 4px;\">R</span> para no interpretar el contenido de la celda\n",
    "\n",
    "En modo Markdown está habilitada la interpretación de código html, con algunas excepciones por temas de seguridad y consistencia del notebook (ej: interpretación de <span style=\"color:#BA2121\">&lt;script&gt;</span>, <span style=\"color:#BA2121\">&lt;style&gt;</span> y atributos relacionados). **Poner ejemplo de video o iframe**"
   ]
  }
 ],
 "metadata": {
  "kernelspec": {
   "display_name": "Python 2",
   "language": "python",
   "name": "python2"
  },
  "language_info": {
   "codemirror_mode": {
    "name": "ipython",
    "version": 2
   },
   "file_extension": ".py",
   "mimetype": "text/x-python",
   "name": "python",
   "nbconvert_exporter": "python",
   "pygments_lexer": "ipython2",
   "version": "2.7.10"
  }
 },
 "nbformat": 4,
 "nbformat_minor": 1
}
